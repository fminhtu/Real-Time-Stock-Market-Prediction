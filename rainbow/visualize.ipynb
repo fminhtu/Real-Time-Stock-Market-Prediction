{
 "cells": [
  {
   "cell_type": "markdown",
   "metadata": {},
   "source": [
    "# Visualization: Trading Session"
   ]
  },
  {
   "cell_type": "code",
   "execution_count": 14,
   "metadata": {},
   "outputs": [],
   "source": [
    "import pandas as pd\n",
    "import numpy as np\n",
    "\n",
    "import altair as alt\n",
    "import seaborn as sns"
   ]
  },
  {
   "cell_type": "code",
   "execution_count": 15,
   "metadata": {},
   "outputs": [
    {
     "name": "stderr",
     "output_type": "stream",
     "text": [
      "c:\\Users\\fminhtu\\miniconda3\\envs\\min_env\\lib\\site-packages\\ipykernel_launcher.py:2: DeprecationWarning: The Windows bytes API has been deprecated, use Unicode filenames instead\n",
      "  \n"
     ]
    },
    {
     "data": {
      "text/plain": [
       "b'c:\\\\Users\\\\fminhtu\\\\Documents\\\\Real-Time-Stock-Market-Prediction-main\\\\rainbow'"
      ]
     },
     "execution_count": 15,
     "metadata": {},
     "output_type": "execute_result"
    }
   ],
   "source": [
    "import os\n",
    "os.getcwdb()"
   ]
  },
  {
   "cell_type": "markdown",
   "metadata": {},
   "source": [
    "### 1. Define parameters and Load model"
   ]
  },
  {
   "cell_type": "code",
   "execution_count": 16,
   "metadata": {},
   "outputs": [],
   "source": [
    "from trading_bot.agent import Agent\n",
    "\n",
    "model_name = 'model_dqn_GOOG_50'\n",
    "test_stock = 'data/GOOG_2022.csv'\n",
    "window_size = 10\n",
    "debug = True\n",
    "\n",
    "agent = Agent(window_size, pretrained=True, model_name=model_name, manual=True)"
   ]
  },
  {
   "cell_type": "markdown",
   "metadata": {},
   "source": [
    "### 2. Load test data"
   ]
  },
  {
   "cell_type": "code",
   "execution_count": 17,
   "metadata": {},
   "outputs": [
    {
     "data": {
      "text/html": [
       "<div>\n",
       "<style scoped>\n",
       "    .dataframe tbody tr th:only-of-type {\n",
       "        vertical-align: middle;\n",
       "    }\n",
       "\n",
       "    .dataframe tbody tr th {\n",
       "        vertical-align: top;\n",
       "    }\n",
       "\n",
       "    .dataframe thead th {\n",
       "        text-align: right;\n",
       "    }\n",
       "</style>\n",
       "<table border=\"1\" class=\"dataframe\">\n",
       "  <thead>\n",
       "    <tr style=\"text-align: right;\">\n",
       "      <th></th>\n",
       "      <th>date</th>\n",
       "      <th>actual</th>\n",
       "    </tr>\n",
       "  </thead>\n",
       "  <tbody>\n",
       "    <tr>\n",
       "      <th>0</th>\n",
       "      <td>2022-01-03</td>\n",
       "      <td>145.074493</td>\n",
       "    </tr>\n",
       "    <tr>\n",
       "      <th>1</th>\n",
       "      <td>2022-01-04</td>\n",
       "      <td>144.416504</td>\n",
       "    </tr>\n",
       "    <tr>\n",
       "      <th>2</th>\n",
       "      <td>2022-01-05</td>\n",
       "      <td>137.653503</td>\n",
       "    </tr>\n",
       "    <tr>\n",
       "      <th>3</th>\n",
       "      <td>2022-01-06</td>\n",
       "      <td>137.550995</td>\n",
       "    </tr>\n",
       "    <tr>\n",
       "      <th>4</th>\n",
       "      <td>2022-01-07</td>\n",
       "      <td>137.004501</td>\n",
       "    </tr>\n",
       "  </tbody>\n",
       "</table>\n",
       "</div>"
      ],
      "text/plain": [
       "        date      actual\n",
       "0 2022-01-03  145.074493\n",
       "1 2022-01-04  144.416504\n",
       "2 2022-01-05  137.653503\n",
       "3 2022-01-06  137.550995\n",
       "4 2022-01-07  137.004501"
      ]
     },
     "execution_count": 17,
     "metadata": {},
     "output_type": "execute_result"
    }
   ],
   "source": [
    "# read csv into dataframe\n",
    "df = pd.read_csv(test_stock)\n",
    "# filter out the desired features\n",
    "df = df[['Date', 'Adj Close']]\n",
    "# rename feature column names\n",
    "df = df.rename(columns={'Adj Close': 'actual', 'Date': 'date'})\n",
    "# convert dates from object to DateTime type\n",
    "dates = df['date']\n",
    "dates = pd.to_datetime(dates, infer_datetime_format=True)\n",
    "df['date'] = dates\n",
    "\n",
    "df.head()"
   ]
  },
  {
   "cell_type": "markdown",
   "metadata": {},
   "source": [
    "### 3. Running Eval"
   ]
  },
  {
   "cell_type": "code",
   "execution_count": 18,
   "metadata": {},
   "outputs": [
    {
     "name": "stderr",
     "output_type": "stream",
     "text": [
      "\u001b[32m2022-12-21 20:17:39\u001b[0m \u001b[35mDESKTOP-60Q2LKA\u001b[0m \u001b[34mroot[11300]\u001b[0m \u001b[1;30mDEBUG\u001b[0m \u001b[32mswitching to TensorFlow for CPU\u001b[0m\n"
     ]
    },
    {
     "name": "stdout",
     "output_type": "stream",
     "text": [
      "test_data 232\n",
      "initial_offset -0.6579889999999864\n"
     ]
    }
   ],
   "source": [
    "import logging\n",
    "import coloredlogs\n",
    "\n",
    "from trading_bot.utils import show_eval_result, switch_k_backend_device, get_stock_data\n",
    "from trading_bot.methods import evaluate_model\n",
    "\n",
    "coloredlogs.install(level='DEBUG')\n",
    "switch_k_backend_device()\n",
    "\n",
    "test_data = get_stock_data(test_stock)\n",
    "initial_offset = test_data[1] - test_data[0]\n",
    "\n",
    "print(\"test_data\", len(test_data))\n",
    "print(\"initial_offset\", initial_offset)"
   ]
  },
  {
   "cell_type": "code",
   "execution_count": 19,
   "metadata": {},
   "outputs": [
    {
     "name": "stderr",
     "output_type": "stream",
     "text": [
      "\u001b[32m2022-12-21 20:17:40\u001b[0m \u001b[35mDESKTOP-60Q2LKA\u001b[0m \u001b[34mroot[11300]\u001b[0m \u001b[1;30mDEBUG\u001b[0m \u001b[32mBuy at: $145.07\u001b[0m\n"
     ]
    },
    {
     "name": "stdout",
     "output_type": "stream",
     "text": [
      "1/1 [==============================] - 0s 84ms/step\n"
     ]
    },
    {
     "name": "stderr",
     "output_type": "stream",
     "text": [
      "\u001b[32m2022-12-21 20:17:40\u001b[0m \u001b[35mDESKTOP-60Q2LKA\u001b[0m \u001b[34mroot[11300]\u001b[0m \u001b[1;30mDEBUG\u001b[0m \u001b[32mBuy at: $144.42\u001b[0m\n"
     ]
    },
    {
     "name": "stdout",
     "output_type": "stream",
     "text": [
      "1/1 [==============================] - 0s 31ms/step\n"
     ]
    },
    {
     "name": "stderr",
     "output_type": "stream",
     "text": [
      "\u001b[32m2022-12-21 20:17:40\u001b[0m \u001b[35mDESKTOP-60Q2LKA\u001b[0m \u001b[34mroot[11300]\u001b[0m \u001b[1;30mDEBUG\u001b[0m \u001b[32mBuy at: $137.65\u001b[0m\n"
     ]
    },
    {
     "name": "stdout",
     "output_type": "stream",
     "text": [
      "1/1 [==============================] - 0s 29ms/step\n"
     ]
    },
    {
     "name": "stderr",
     "output_type": "stream",
     "text": [
      "\u001b[32m2022-12-21 20:17:40\u001b[0m \u001b[35mDESKTOP-60Q2LKA\u001b[0m \u001b[34mroot[11300]\u001b[0m \u001b[1;30mDEBUG\u001b[0m \u001b[32mSell at: $137.55 | Position: -$7.52\u001b[0m\n"
     ]
    },
    {
     "name": "stdout",
     "output_type": "stream",
     "text": [
      "1/1 [==============================] - 0s 36ms/step\n"
     ]
    },
    {
     "name": "stderr",
     "output_type": "stream",
     "text": [
      "\u001b[32m2022-12-21 20:17:40\u001b[0m \u001b[35mDESKTOP-60Q2LKA\u001b[0m \u001b[34mroot[11300]\u001b[0m \u001b[1;30mDEBUG\u001b[0m \u001b[32mSell at: $137.00 | Position: -$7.41\u001b[0m\n"
     ]
    },
    {
     "name": "stdout",
     "output_type": "stream",
     "text": [
      "1/1 [==============================] - 0s 34ms/step\n"
     ]
    },
    {
     "name": "stderr",
     "output_type": "stream",
     "text": [
      "\u001b[32m2022-12-21 20:17:40\u001b[0m \u001b[35mDESKTOP-60Q2LKA\u001b[0m \u001b[34mroot[11300]\u001b[0m \u001b[1;30mDEBUG\u001b[0m \u001b[32mSell at: $138.57 | Position: +$0.92\u001b[0m\n"
     ]
    },
    {
     "name": "stdout",
     "output_type": "stream",
     "text": [
      "1/1 [==============================] - 0s 27ms/step\n",
      "1/1 [==============================] - 0s 32ms/step\n",
      "1/1 [==============================] - 0s 28ms/step\n",
      "1/1 [==============================] - 0s 28ms/step\n",
      "1/1 [==============================] - 0s 31ms/step\n",
      "1/1 [==============================] - 0s 25ms/step\n",
      "1/1 [==============================] - 0s 24ms/step\n",
      "1/1 [==============================] - 0s 31ms/step\n"
     ]
    },
    {
     "name": "stderr",
     "output_type": "stream",
     "text": [
      "\u001b[32m2022-12-21 20:17:41\u001b[0m \u001b[35mDESKTOP-60Q2LKA\u001b[0m \u001b[34mroot[11300]\u001b[0m \u001b[1;30mDEBUG\u001b[0m \u001b[32mBuy at: $130.09\u001b[0m\n"
     ]
    },
    {
     "name": "stdout",
     "output_type": "stream",
     "text": [
      "1/1 [==============================] - 0s 30ms/step\n"
     ]
    },
    {
     "name": "stderr",
     "output_type": "stream",
     "text": [
      "\u001b[32m2022-12-21 20:17:41\u001b[0m \u001b[35mDESKTOP-60Q2LKA\u001b[0m \u001b[34mroot[11300]\u001b[0m \u001b[1;30mDEBUG\u001b[0m \u001b[32mSell at: $130.37 | Position: +$0.28\u001b[0m\n"
     ]
    },
    {
     "name": "stdout",
     "output_type": "stream",
     "text": [
      "1/1 [==============================] - 0s 20ms/step\n",
      "1/1 [==============================] - 0s 25ms/step\n",
      "1/1 [==============================] - 0s 23ms/step\n",
      "1/1 [==============================] - 0s 25ms/step\n",
      "1/1 [==============================] - 0s 31ms/step\n",
      "1/1 [==============================] - 0s 36ms/step\n",
      "1/1 [==============================] - 0s 32ms/step\n",
      "1/1 [==============================] - 0s 34ms/step\n",
      "1/1 [==============================] - 0s 38ms/step\n",
      "1/1 [==============================] - 0s 66ms/step\n",
      "1/1 [==============================] - 0s 57ms/step\n",
      "1/1 [==============================] - 0s 25ms/step\n",
      "1/1 [==============================] - 0s 34ms/step\n",
      "1/1 [==============================] - 0s 41ms/step\n"
     ]
    },
    {
     "name": "stderr",
     "output_type": "stream",
     "text": [
      "\u001b[32m2022-12-21 20:17:42\u001b[0m \u001b[35mDESKTOP-60Q2LKA\u001b[0m \u001b[34mroot[11300]\u001b[0m \u001b[1;30mDEBUG\u001b[0m \u001b[32mBuy at: $134.13\u001b[0m\n"
     ]
    },
    {
     "name": "stdout",
     "output_type": "stream",
     "text": [
      "1/1 [==============================] - 0s 32ms/step\n"
     ]
    },
    {
     "name": "stderr",
     "output_type": "stream",
     "text": [
      "\u001b[32m2022-12-21 20:17:42\u001b[0m \u001b[35mDESKTOP-60Q2LKA\u001b[0m \u001b[34mroot[11300]\u001b[0m \u001b[1;30mDEBUG\u001b[0m \u001b[32mSell at: $135.30 | Position: +$1.17\u001b[0m\n"
     ]
    },
    {
     "name": "stdout",
     "output_type": "stream",
     "text": [
      "1/1 [==============================] - 0s 22ms/step\n",
      "1/1 [==============================] - 0s 28ms/step\n",
      "1/1 [==============================] - 0s 38ms/step\n"
     ]
    },
    {
     "name": "stderr",
     "output_type": "stream",
     "text": [
      "\u001b[32m2022-12-21 20:17:43\u001b[0m \u001b[35mDESKTOP-60Q2LKA\u001b[0m \u001b[34mroot[11300]\u001b[0m \u001b[1;30mDEBUG\u001b[0m \u001b[32mBuy at: $132.31\u001b[0m\n"
     ]
    },
    {
     "name": "stdout",
     "output_type": "stream",
     "text": [
      "1/1 [==============================] - 0s 27ms/step\n"
     ]
    },
    {
     "name": "stderr",
     "output_type": "stream",
     "text": [
      "\u001b[32m2022-12-21 20:17:43\u001b[0m \u001b[35mDESKTOP-60Q2LKA\u001b[0m \u001b[34mroot[11300]\u001b[0m \u001b[1;30mDEBUG\u001b[0m \u001b[32mBuy at: $130.47\u001b[0m\n"
     ]
    },
    {
     "name": "stdout",
     "output_type": "stream",
     "text": [
      "1/1 [==============================] - 0s 35ms/step\n"
     ]
    },
    {
     "name": "stderr",
     "output_type": "stream",
     "text": [
      "\u001b[32m2022-12-21 20:17:43\u001b[0m \u001b[35mDESKTOP-60Q2LKA\u001b[0m \u001b[34mroot[11300]\u001b[0m \u001b[1;30mDEBUG\u001b[0m \u001b[32mBuy at: $129.40\u001b[0m\n"
     ]
    },
    {
     "name": "stdout",
     "output_type": "stream",
     "text": [
      "1/1 [==============================] - 0s 32ms/step\n"
     ]
    },
    {
     "name": "stderr",
     "output_type": "stream",
     "text": [
      "\u001b[32m2022-12-21 20:17:43\u001b[0m \u001b[35mDESKTOP-60Q2LKA\u001b[0m \u001b[34mroot[11300]\u001b[0m \u001b[1;30mDEBUG\u001b[0m \u001b[32mSell at: $127.58 | Position: -$4.72\u001b[0m\n"
     ]
    },
    {
     "name": "stdout",
     "output_type": "stream",
     "text": [
      "1/1 [==============================] - 0s 44ms/step\n"
     ]
    },
    {
     "name": "stderr",
     "output_type": "stream",
     "text": [
      "\u001b[32m2022-12-21 20:17:43\u001b[0m \u001b[35mDESKTOP-60Q2LKA\u001b[0m \u001b[34mroot[11300]\u001b[0m \u001b[1;30mDEBUG\u001b[0m \u001b[32mBuy at: $132.67\u001b[0m\n"
     ]
    },
    {
     "name": "stdout",
     "output_type": "stream",
     "text": [
      "1/1 [==============================] - 0s 37ms/step\n"
     ]
    },
    {
     "name": "stderr",
     "output_type": "stream",
     "text": [
      "\u001b[32m2022-12-21 20:17:43\u001b[0m \u001b[35mDESKTOP-60Q2LKA\u001b[0m \u001b[34mroot[11300]\u001b[0m \u001b[1;30mDEBUG\u001b[0m \u001b[32mBuy at: $134.52\u001b[0m\n"
     ]
    },
    {
     "name": "stdout",
     "output_type": "stream",
     "text": [
      "1/1 [==============================] - 0s 27ms/step\n"
     ]
    },
    {
     "name": "stderr",
     "output_type": "stream",
     "text": [
      "\u001b[32m2022-12-21 20:17:43\u001b[0m \u001b[35mDESKTOP-60Q2LKA\u001b[0m \u001b[34mroot[11300]\u001b[0m \u001b[1;30mDEBUG\u001b[0m \u001b[32mSell at: $134.89 | Position: +$4.42\u001b[0m\n"
     ]
    },
    {
     "name": "stdout",
     "output_type": "stream",
     "text": [
      "1/1 [==============================] - 0s 33ms/step\n",
      "1/1 [==============================] - 0s 43ms/step\n"
     ]
    },
    {
     "name": "stderr",
     "output_type": "stream",
     "text": [
      "\u001b[32m2022-12-21 20:17:43\u001b[0m \u001b[35mDESKTOP-60Q2LKA\u001b[0m \u001b[34mroot[11300]\u001b[0m \u001b[1;30mDEBUG\u001b[0m \u001b[32mBuy at: $134.75\u001b[0m\n"
     ]
    },
    {
     "name": "stdout",
     "output_type": "stream",
     "text": [
      "1/1 [==============================] - 0s 32ms/step\n"
     ]
    },
    {
     "name": "stderr",
     "output_type": "stream",
     "text": [
      "\u001b[32m2022-12-21 20:17:43\u001b[0m \u001b[35mDESKTOP-60Q2LKA\u001b[0m \u001b[34mroot[11300]\u001b[0m \u001b[1;30mDEBUG\u001b[0m \u001b[32mBuy at: $134.31\u001b[0m\n"
     ]
    },
    {
     "name": "stdout",
     "output_type": "stream",
     "text": [
      "1/1 [==============================] - 0s 33ms/step\n"
     ]
    },
    {
     "name": "stderr",
     "output_type": "stream",
     "text": [
      "\u001b[32m2022-12-21 20:17:44\u001b[0m \u001b[35mDESKTOP-60Q2LKA\u001b[0m \u001b[34mroot[11300]\u001b[0m \u001b[1;30mDEBUG\u001b[0m \u001b[32mSell at: $132.12 | Position: +$2.72\u001b[0m\n"
     ]
    },
    {
     "name": "stdout",
     "output_type": "stream",
     "text": [
      "1/1 [==============================] - 0s 100ms/step\n"
     ]
    },
    {
     "name": "stderr",
     "output_type": "stream",
     "text": [
      "\u001b[32m2022-12-21 20:17:44\u001b[0m \u001b[35mDESKTOP-60Q2LKA\u001b[0m \u001b[34mroot[11300]\u001b[0m \u001b[1;30mDEBUG\u001b[0m \u001b[32mBuy at: $126.46\u001b[0m\n"
     ]
    },
    {
     "name": "stdout",
     "output_type": "stream",
     "text": [
      "1/1 [==============================] - 0s 55ms/step\n"
     ]
    },
    {
     "name": "stderr",
     "output_type": "stream",
     "text": [
      "\u001b[32m2022-12-21 20:17:44\u001b[0m \u001b[35mDESKTOP-60Q2LKA\u001b[0m \u001b[34mroot[11300]\u001b[0m \u001b[1;30mDEBUG\u001b[0m \u001b[32mBuy at: $127.28\u001b[0m\n"
     ]
    },
    {
     "name": "stdout",
     "output_type": "stream",
     "text": [
      "1/1 [==============================] - 0s 52ms/step\n"
     ]
    },
    {
     "name": "stderr",
     "output_type": "stream",
     "text": [
      "\u001b[32m2022-12-21 20:17:44\u001b[0m \u001b[35mDESKTOP-60Q2LKA\u001b[0m \u001b[34mroot[11300]\u001b[0m \u001b[1;30mDEBUG\u001b[0m \u001b[32mSell at: $133.87 | Position: +$1.19\u001b[0m\n"
     ]
    },
    {
     "name": "stdout",
     "output_type": "stream",
     "text": [
      "1/1 [==============================] - 0s 32ms/step\n"
     ]
    },
    {
     "name": "stderr",
     "output_type": "stream",
     "text": [
      "\u001b[32m2022-12-21 20:17:44\u001b[0m \u001b[35mDESKTOP-60Q2LKA\u001b[0m \u001b[34mroot[11300]\u001b[0m \u001b[1;30mDEBUG\u001b[0m \u001b[32mSell at: $132.68 | Position: -$1.84\u001b[0m\n"
     ]
    },
    {
     "name": "stdout",
     "output_type": "stream",
     "text": [
      "1/1 [==============================] - 0s 73ms/step\n"
     ]
    },
    {
     "name": "stderr",
     "output_type": "stream",
     "text": [
      "\u001b[32m2022-12-21 20:17:44\u001b[0m \u001b[35mDESKTOP-60Q2LKA\u001b[0m \u001b[34mroot[11300]\u001b[0m \u001b[1;30mDEBUG\u001b[0m \u001b[32mBuy at: $130.48\u001b[0m\n"
     ]
    },
    {
     "name": "stdout",
     "output_type": "stream",
     "text": [
      "1/1 [==============================] - 0s 49ms/step\n"
     ]
    },
    {
     "name": "stderr",
     "output_type": "stream",
     "text": [
      "\u001b[32m2022-12-21 20:17:45\u001b[0m \u001b[35mDESKTOP-60Q2LKA\u001b[0m \u001b[34mroot[11300]\u001b[0m \u001b[1;30mDEBUG\u001b[0m \u001b[32mBuy at: $126.74\u001b[0m\n"
     ]
    },
    {
     "name": "stdout",
     "output_type": "stream",
     "text": [
      "1/1 [==============================] - 0s 34ms/step\n"
     ]
    },
    {
     "name": "stderr",
     "output_type": "stream",
     "text": [
      "\u001b[32m2022-12-21 20:17:45\u001b[0m \u001b[35mDESKTOP-60Q2LKA\u001b[0m \u001b[34mroot[11300]\u001b[0m \u001b[1;30mDEBUG\u001b[0m \u001b[32mSell at: $129.66 | Position: -$5.09\u001b[0m\n"
     ]
    },
    {
     "name": "stdout",
     "output_type": "stream",
     "text": [
      "1/1 [==============================] - 0s 25ms/step\n"
     ]
    },
    {
     "name": "stderr",
     "output_type": "stream",
     "text": [
      "\u001b[32m2022-12-21 20:17:45\u001b[0m \u001b[35mDESKTOP-60Q2LKA\u001b[0m \u001b[34mroot[11300]\u001b[0m \u001b[1;30mDEBUG\u001b[0m \u001b[32mBuy at: $133.69\u001b[0m\n"
     ]
    },
    {
     "name": "stdout",
     "output_type": "stream",
     "text": [
      "1/1 [==============================] - 0s 59ms/step\n"
     ]
    },
    {
     "name": "stderr",
     "output_type": "stream",
     "text": [
      "\u001b[32m2022-12-21 20:17:45\u001b[0m \u001b[35mDESKTOP-60Q2LKA\u001b[0m \u001b[34mroot[11300]\u001b[0m \u001b[1;30mDEBUG\u001b[0m \u001b[32mBuy at: $134.60\u001b[0m\n"
     ]
    },
    {
     "name": "stdout",
     "output_type": "stream",
     "text": [
      "1/1 [==============================] - 0s 70ms/step\n"
     ]
    },
    {
     "name": "stderr",
     "output_type": "stream",
     "text": [
      "\u001b[32m2022-12-21 20:17:45\u001b[0m \u001b[35mDESKTOP-60Q2LKA\u001b[0m \u001b[34mroot[11300]\u001b[0m \u001b[1;30mDEBUG\u001b[0m \u001b[32mSell at: $136.80 | Position: +$2.49\u001b[0m\n"
     ]
    },
    {
     "name": "stdout",
     "output_type": "stream",
     "text": [
      "1/1 [==============================] - 0s 37ms/step\n"
     ]
    },
    {
     "name": "stderr",
     "output_type": "stream",
     "text": [
      "\u001b[32m2022-12-21 20:17:45\u001b[0m \u001b[35mDESKTOP-60Q2LKA\u001b[0m \u001b[34mroot[11300]\u001b[0m \u001b[1;30mDEBUG\u001b[0m \u001b[32mSell at: $136.48 | Position: +$10.01\u001b[0m\n"
     ]
    },
    {
     "name": "stdout",
     "output_type": "stream",
     "text": [
      "1/1 [==============================] - 0s 36ms/step\n"
     ]
    },
    {
     "name": "stderr",
     "output_type": "stream",
     "text": [
      "\u001b[32m2022-12-21 20:17:45\u001b[0m \u001b[35mDESKTOP-60Q2LKA\u001b[0m \u001b[34mroot[11300]\u001b[0m \u001b[1;30mDEBUG\u001b[0m \u001b[32mBuy at: $140.28\u001b[0m\n"
     ]
    },
    {
     "name": "stdout",
     "output_type": "stream",
     "text": [
      "1/1 [==============================] - 0s 37ms/step\n"
     ]
    },
    {
     "name": "stderr",
     "output_type": "stream",
     "text": [
      "\u001b[32m2022-12-21 20:17:45\u001b[0m \u001b[35mDESKTOP-60Q2LKA\u001b[0m \u001b[34mroot[11300]\u001b[0m \u001b[1;30mDEBUG\u001b[0m \u001b[32mBuy at: $138.50\u001b[0m\n"
     ]
    },
    {
     "name": "stdout",
     "output_type": "stream",
     "text": [
      "1/1 [==============================] - 0s 48ms/step\n"
     ]
    },
    {
     "name": "stderr",
     "output_type": "stream",
     "text": [
      "\u001b[32m2022-12-21 20:17:46\u001b[0m \u001b[35mDESKTOP-60Q2LKA\u001b[0m \u001b[34mroot[11300]\u001b[0m \u001b[1;30mDEBUG\u001b[0m \u001b[32mSell at: $141.31 | Position: +$14.03\u001b[0m\n"
     ]
    },
    {
     "name": "stdout",
     "output_type": "stream",
     "text": [
      "1/1 [==============================] - 0s 47ms/step\n"
     ]
    },
    {
     "name": "stderr",
     "output_type": "stream",
     "text": [
      "\u001b[32m2022-12-21 20:17:46\u001b[0m \u001b[35mDESKTOP-60Q2LKA\u001b[0m \u001b[34mroot[11300]\u001b[0m \u001b[1;30mDEBUG\u001b[0m \u001b[32mSell at: $141.52 | Position: +$11.05\u001b[0m\n"
     ]
    },
    {
     "name": "stdout",
     "output_type": "stream",
     "text": [
      "1/1 [==============================] - 0s 27ms/step\n"
     ]
    },
    {
     "name": "stderr",
     "output_type": "stream",
     "text": [
      "\u001b[32m2022-12-21 20:17:46\u001b[0m \u001b[35mDESKTOP-60Q2LKA\u001b[0m \u001b[34mroot[11300]\u001b[0m \u001b[1;30mDEBUG\u001b[0m \u001b[32mSell at: $141.95 | Position: +$15.21\u001b[0m\n"
     ]
    },
    {
     "name": "stdout",
     "output_type": "stream",
     "text": [
      "1/1 [==============================] - 0s 30ms/step\n"
     ]
    },
    {
     "name": "stderr",
     "output_type": "stream",
     "text": [
      "\u001b[32m2022-12-21 20:17:46\u001b[0m \u001b[35mDESKTOP-60Q2LKA\u001b[0m \u001b[34mroot[11300]\u001b[0m \u001b[1;30mDEBUG\u001b[0m \u001b[32mSell at: $143.25 | Position: +$9.56\u001b[0m\n"
     ]
    },
    {
     "name": "stdout",
     "output_type": "stream",
     "text": [
      "1/1 [==============================] - 0s 30ms/step\n"
     ]
    },
    {
     "name": "stderr",
     "output_type": "stream",
     "text": [
      "\u001b[32m2022-12-21 20:17:46\u001b[0m \u001b[35mDESKTOP-60Q2LKA\u001b[0m \u001b[34mroot[11300]\u001b[0m \u001b[1;30mDEBUG\u001b[0m \u001b[32mSell at: $142.64 | Position: +$8.04\u001b[0m\n"
     ]
    },
    {
     "name": "stdout",
     "output_type": "stream",
     "text": [
      "1/1 [==============================] - 0s 40ms/step\n"
     ]
    },
    {
     "name": "stderr",
     "output_type": "stream",
     "text": [
      "\u001b[32m2022-12-21 20:17:46\u001b[0m \u001b[35mDESKTOP-60Q2LKA\u001b[0m \u001b[34mroot[11300]\u001b[0m \u001b[1;30mDEBUG\u001b[0m \u001b[32mSell at: $139.65 | Position: -$0.63\u001b[0m\n"
     ]
    },
    {
     "name": "stdout",
     "output_type": "stream",
     "text": [
      "1/1 [==============================] - 0s 33ms/step\n"
     ]
    },
    {
     "name": "stderr",
     "output_type": "stream",
     "text": [
      "\u001b[32m2022-12-21 20:17:46\u001b[0m \u001b[35mDESKTOP-60Q2LKA\u001b[0m \u001b[34mroot[11300]\u001b[0m \u001b[1;30mDEBUG\u001b[0m \u001b[32mSell at: $140.70 | Position: +$2.20\u001b[0m\n"
     ]
    },
    {
     "name": "stdout",
     "output_type": "stream",
     "text": [
      "1/1 [==============================] - 0s 64ms/step\n",
      "1/1 [==============================] - 0s 23ms/step\n",
      "1/1 [==============================] - 0s 54ms/step\n"
     ]
    },
    {
     "name": "stderr",
     "output_type": "stream",
     "text": [
      "\u001b[32m2022-12-21 20:17:47\u001b[0m \u001b[35mDESKTOP-60Q2LKA\u001b[0m \u001b[34mroot[11300]\u001b[0m \u001b[1;30mDEBUG\u001b[0m \u001b[32mBuy at: $137.18\u001b[0m\n"
     ]
    },
    {
     "name": "stdout",
     "output_type": "stream",
     "text": [
      "1/1 [==============================] - 0s 52ms/step\n"
     ]
    },
    {
     "name": "stderr",
     "output_type": "stream",
     "text": [
      "\u001b[32m2022-12-21 20:17:47\u001b[0m \u001b[35mDESKTOP-60Q2LKA\u001b[0m \u001b[34mroot[11300]\u001b[0m \u001b[1;30mDEBUG\u001b[0m \u001b[32mBuy at: $136.46\u001b[0m\n"
     ]
    },
    {
     "name": "stdout",
     "output_type": "stream",
     "text": [
      "1/1 [==============================] - 0s 34ms/step\n"
     ]
    },
    {
     "name": "stderr",
     "output_type": "stream",
     "text": [
      "\u001b[32m2022-12-21 20:17:47\u001b[0m \u001b[35mDESKTOP-60Q2LKA\u001b[0m \u001b[34mroot[11300]\u001b[0m \u001b[1;30mDEBUG\u001b[0m \u001b[32mBuy at: $134.01\u001b[0m\n"
     ]
    },
    {
     "name": "stdout",
     "output_type": "stream",
     "text": [
      "1/1 [==============================] - 0s 28ms/step\n"
     ]
    },
    {
     "name": "stderr",
     "output_type": "stream",
     "text": [
      "\u001b[32m2022-12-21 20:17:47\u001b[0m \u001b[35mDESKTOP-60Q2LKA\u001b[0m \u001b[34mroot[11300]\u001b[0m \u001b[1;30mDEBUG\u001b[0m \u001b[32mBuy at: $129.80\u001b[0m\n"
     ]
    },
    {
     "name": "stdout",
     "output_type": "stream",
     "text": [
      "1/1 [==============================] - 0s 45ms/step\n"
     ]
    },
    {
     "name": "stderr",
     "output_type": "stream",
     "text": [
      "\u001b[32m2022-12-21 20:17:47\u001b[0m \u001b[35mDESKTOP-60Q2LKA\u001b[0m \u001b[34mroot[11300]\u001b[0m \u001b[1;30mDEBUG\u001b[0m \u001b[32mBuy at: $128.37\u001b[0m\n"
     ]
    },
    {
     "name": "stdout",
     "output_type": "stream",
     "text": [
      "1/1 [==============================] - 0s 34ms/step\n"
     ]
    },
    {
     "name": "stderr",
     "output_type": "stream",
     "text": [
      "\u001b[32m2022-12-21 20:17:47\u001b[0m \u001b[35mDESKTOP-60Q2LKA\u001b[0m \u001b[34mroot[11300]\u001b[0m \u001b[1;30mDEBUG\u001b[0m \u001b[32mBuy at: $130.29\u001b[0m\n"
     ]
    },
    {
     "name": "stdout",
     "output_type": "stream",
     "text": [
      "1/1 [==============================] - 0s 30ms/step\n"
     ]
    },
    {
     "name": "stderr",
     "output_type": "stream",
     "text": [
      "\u001b[32m2022-12-21 20:17:47\u001b[0m \u001b[35mDESKTOP-60Q2LKA\u001b[0m \u001b[34mroot[11300]\u001b[0m \u001b[1;30mDEBUG\u001b[0m \u001b[32mBuy at: $127.25\u001b[0m\n"
     ]
    },
    {
     "name": "stdout",
     "output_type": "stream",
     "text": [
      "1/1 [==============================] - 0s 43ms/step\n",
      "1/1 [==============================] - 0s 35ms/step\n"
     ]
    },
    {
     "name": "stderr",
     "output_type": "stream",
     "text": [
      "\u001b[32m2022-12-21 20:17:47\u001b[0m \u001b[35mDESKTOP-60Q2LKA\u001b[0m \u001b[34mroot[11300]\u001b[0m \u001b[1;30mDEBUG\u001b[0m \u001b[32mBuy at: $130.53\u001b[0m\n"
     ]
    },
    {
     "name": "stdout",
     "output_type": "stream",
     "text": [
      "1/1 [==============================] - 0s 40ms/step\n",
      "1/1 [==============================] - 0s 24ms/step\n"
     ]
    },
    {
     "name": "stderr",
     "output_type": "stream",
     "text": [
      "\u001b[32m2022-12-21 20:17:48\u001b[0m \u001b[35mDESKTOP-60Q2LKA\u001b[0m \u001b[34mroot[11300]\u001b[0m \u001b[1;30mDEBUG\u001b[0m \u001b[32mBuy at: $124.94\u001b[0m\n"
     ]
    },
    {
     "name": "stdout",
     "output_type": "stream",
     "text": [
      "1/1 [==============================] - 0s 29ms/step\n"
     ]
    },
    {
     "name": "stderr",
     "output_type": "stream",
     "text": [
      "\u001b[32m2022-12-21 20:17:48\u001b[0m \u001b[35mDESKTOP-60Q2LKA\u001b[0m \u001b[34mroot[11300]\u001b[0m \u001b[1;30mDEBUG\u001b[0m \u001b[32mBuy at: $119.61\u001b[0m\n"
     ]
    },
    {
     "name": "stdout",
     "output_type": "stream",
     "text": [
      "1/1 [==============================] - 0s 33ms/step\n"
     ]
    },
    {
     "name": "stderr",
     "output_type": "stream",
     "text": [
      "\u001b[32m2022-12-21 20:17:48\u001b[0m \u001b[35mDESKTOP-60Q2LKA\u001b[0m \u001b[34mroot[11300]\u001b[0m \u001b[1;30mDEBUG\u001b[0m \u001b[32mBuy at: $123.25\u001b[0m\n"
     ]
    },
    {
     "name": "stdout",
     "output_type": "stream",
     "text": [
      "1/1 [==============================] - 0s 37ms/step\n"
     ]
    },
    {
     "name": "stderr",
     "output_type": "stream",
     "text": [
      "\u001b[32m2022-12-21 20:17:48\u001b[0m \u001b[35mDESKTOP-60Q2LKA\u001b[0m \u001b[34mroot[11300]\u001b[0m \u001b[1;30mDEBUG\u001b[0m \u001b[32mSell at: $119.51 | Position: -$17.67\u001b[0m\n"
     ]
    },
    {
     "name": "stdout",
     "output_type": "stream",
     "text": [
      "1/1 [==============================] - 0s 38ms/step\n"
     ]
    },
    {
     "name": "stderr",
     "output_type": "stream",
     "text": [
      "\u001b[32m2022-12-21 20:17:48\u001b[0m \u001b[35mDESKTOP-60Q2LKA\u001b[0m \u001b[34mroot[11300]\u001b[0m \u001b[1;30mDEBUG\u001b[0m \u001b[32mBuy at: $115.02\u001b[0m\n"
     ]
    },
    {
     "name": "stdout",
     "output_type": "stream",
     "text": [
      "1/1 [==============================] - 0s 42ms/step\n"
     ]
    },
    {
     "name": "stderr",
     "output_type": "stream",
     "text": [
      "\u001b[32m2022-12-21 20:17:48\u001b[0m \u001b[35mDESKTOP-60Q2LKA\u001b[0m \u001b[34mroot[11300]\u001b[0m \u001b[1;30mDEBUG\u001b[0m \u001b[32mBuy at: $119.41\u001b[0m\n"
     ]
    },
    {
     "name": "stdout",
     "output_type": "stream",
     "text": [
      "1/1 [==============================] - 0s 33ms/step\n"
     ]
    },
    {
     "name": "stderr",
     "output_type": "stream",
     "text": [
      "\u001b[32m2022-12-21 20:17:48\u001b[0m \u001b[35mDESKTOP-60Q2LKA\u001b[0m \u001b[34mroot[11300]\u001b[0m \u001b[1;30mDEBUG\u001b[0m \u001b[32mBuy at: $114.97\u001b[0m\n"
     ]
    },
    {
     "name": "stdout",
     "output_type": "stream",
     "text": [
      "1/1 [==============================] - 0s 39ms/step\n",
      "1/1 [==============================] - 0s 38ms/step\n"
     ]
    },
    {
     "name": "stderr",
     "output_type": "stream",
     "text": [
      "\u001b[32m2022-12-21 20:17:48\u001b[0m \u001b[35mDESKTOP-60Q2LKA\u001b[0m \u001b[34mroot[11300]\u001b[0m \u001b[1;30mDEBUG\u001b[0m \u001b[32mBuy at: $118.13\u001b[0m\n"
     ]
    },
    {
     "name": "stdout",
     "output_type": "stream",
     "text": [
      "1/1 [==============================] - 0s 50ms/step\n"
     ]
    },
    {
     "name": "stderr",
     "output_type": "stream",
     "text": [
      "\u001b[32m2022-12-21 20:17:49\u001b[0m \u001b[35mDESKTOP-60Q2LKA\u001b[0m \u001b[34mroot[11300]\u001b[0m \u001b[1;30mDEBUG\u001b[0m \u001b[32mBuy at: $122.57\u001b[0m\n"
     ]
    },
    {
     "name": "stdout",
     "output_type": "stream",
     "text": [
      "1/1 [==============================] - 0s 33ms/step\n"
     ]
    },
    {
     "name": "stderr",
     "output_type": "stream",
     "text": [
      "\u001b[32m2022-12-21 20:17:49\u001b[0m \u001b[35mDESKTOP-60Q2LKA\u001b[0m \u001b[34mroot[11300]\u001b[0m \u001b[1;30mDEBUG\u001b[0m \u001b[32mSell at: $116.75 | Position: -$19.72\u001b[0m\n"
     ]
    },
    {
     "name": "stdout",
     "output_type": "stream",
     "text": [
      "1/1 [==============================] - 0s 29ms/step\n"
     ]
    },
    {
     "name": "stderr",
     "output_type": "stream",
     "text": [
      "\u001b[32m2022-12-21 20:17:49\u001b[0m \u001b[35mDESKTOP-60Q2LKA\u001b[0m \u001b[34mroot[11300]\u001b[0m \u001b[1;30mDEBUG\u001b[0m \u001b[32mSell at: $115.66 | Position: -$18.35\u001b[0m\n"
     ]
    },
    {
     "name": "stdout",
     "output_type": "stream",
     "text": [
      "1/1 [==============================] - 0s 41ms/step\n"
     ]
    },
    {
     "name": "stderr",
     "output_type": "stream",
     "text": [
      "\u001b[32m2022-12-21 20:17:49\u001b[0m \u001b[35mDESKTOP-60Q2LKA\u001b[0m \u001b[34mroot[11300]\u001b[0m \u001b[1;30mDEBUG\u001b[0m \u001b[32mBuy at: $113.08\u001b[0m\n"
     ]
    },
    {
     "name": "stdout",
     "output_type": "stream",
     "text": [
      "1/1 [==============================] - 0s 46ms/step\n"
     ]
    },
    {
     "name": "stderr",
     "output_type": "stream",
     "text": [
      "\u001b[32m2022-12-21 20:17:49\u001b[0m \u001b[35mDESKTOP-60Q2LKA\u001b[0m \u001b[34mroot[11300]\u001b[0m \u001b[1;30mDEBUG\u001b[0m \u001b[32mSell at: $114.58 | Position: -$15.21\u001b[0m\n"
     ]
    },
    {
     "name": "stdout",
     "output_type": "stream",
     "text": [
      "1/1 [==============================] - 0s 34ms/step\n"
     ]
    },
    {
     "name": "stderr",
     "output_type": "stream",
     "text": [
      "\u001b[32m2022-12-21 20:17:49\u001b[0m \u001b[35mDESKTOP-60Q2LKA\u001b[0m \u001b[34mroot[11300]\u001b[0m \u001b[1;30mDEBUG\u001b[0m \u001b[32mSell at: $113.96 | Position: -$14.41\u001b[0m\n"
     ]
    },
    {
     "name": "stdout",
     "output_type": "stream",
     "text": [
      "1/1 [==============================] - 0s 37ms/step\n"
     ]
    },
    {
     "name": "stderr",
     "output_type": "stream",
     "text": [
      "\u001b[32m2022-12-21 20:17:49\u001b[0m \u001b[35mDESKTOP-60Q2LKA\u001b[0m \u001b[34mroot[11300]\u001b[0m \u001b[1;30mDEBUG\u001b[0m \u001b[32mSell at: $113.16 | Position: -$17.12\u001b[0m\n"
     ]
    },
    {
     "name": "stdout",
     "output_type": "stream",
     "text": [
      "1/1 [==============================] - 0s 29ms/step\n"
     ]
    },
    {
     "name": "stderr",
     "output_type": "stream",
     "text": [
      "\u001b[32m2022-12-21 20:17:49\u001b[0m \u001b[35mDESKTOP-60Q2LKA\u001b[0m \u001b[34mroot[11300]\u001b[0m \u001b[1;30mDEBUG\u001b[0m \u001b[32mSell at: $116.52 | Position: -$10.74\u001b[0m\n"
     ]
    },
    {
     "name": "stdout",
     "output_type": "stream",
     "text": [
      "1/1 [==============================] - 0s 27ms/step\n"
     ]
    },
    {
     "name": "stderr",
     "output_type": "stream",
     "text": [
      "\u001b[32m2022-12-21 20:17:49\u001b[0m \u001b[35mDESKTOP-60Q2LKA\u001b[0m \u001b[34mroot[11300]\u001b[0m \u001b[1;30mDEBUG\u001b[0m \u001b[32mSell at: $114.79 | Position: -$15.74\u001b[0m\n"
     ]
    },
    {
     "name": "stdout",
     "output_type": "stream",
     "text": [
      "1/1 [==============================] - 0s 40ms/step\n"
     ]
    },
    {
     "name": "stderr",
     "output_type": "stream",
     "text": [
      "\u001b[32m2022-12-21 20:17:50\u001b[0m \u001b[35mDESKTOP-60Q2LKA\u001b[0m \u001b[34mroot[11300]\u001b[0m \u001b[1;30mDEBUG\u001b[0m \u001b[32mSell at: $116.70 | Position: -$8.24\u001b[0m\n"
     ]
    },
    {
     "name": "stdout",
     "output_type": "stream",
     "text": [
      "1/1 [==============================] - 0s 37ms/step\n"
     ]
    },
    {
     "name": "stderr",
     "output_type": "stream",
     "text": [
      "\u001b[32m2022-12-21 20:17:50\u001b[0m \u001b[35mDESKTOP-60Q2LKA\u001b[0m \u001b[34mroot[11300]\u001b[0m \u001b[1;30mDEBUG\u001b[0m \u001b[32mBuy at: $112.40\u001b[0m\n"
     ]
    },
    {
     "name": "stdout",
     "output_type": "stream",
     "text": [
      "1/1 [==============================] - 0s 29ms/step\n"
     ]
    },
    {
     "name": "stderr",
     "output_type": "stream",
     "text": [
      "\u001b[32m2022-12-21 20:17:50\u001b[0m \u001b[35mDESKTOP-60Q2LKA\u001b[0m \u001b[34mroot[11300]\u001b[0m \u001b[1;30mDEBUG\u001b[0m \u001b[32mSell at: $110.75 | Position: -$8.87\u001b[0m\n"
     ]
    },
    {
     "name": "stdout",
     "output_type": "stream",
     "text": [
      "1/1 [==============================] - 0s 32ms/step\n"
     ]
    },
    {
     "name": "stderr",
     "output_type": "stream",
     "text": [
      "\u001b[32m2022-12-21 20:17:50\u001b[0m \u001b[35mDESKTOP-60Q2LKA\u001b[0m \u001b[34mroot[11300]\u001b[0m \u001b[1;30mDEBUG\u001b[0m \u001b[32mSell at: $109.31 | Position: -$13.94\u001b[0m\n"
     ]
    },
    {
     "name": "stdout",
     "output_type": "stream",
     "text": [
      "1/1 [==============================] - 0s 32ms/step\n"
     ]
    },
    {
     "name": "stderr",
     "output_type": "stream",
     "text": [
      "\u001b[32m2022-12-21 20:17:50\u001b[0m \u001b[35mDESKTOP-60Q2LKA\u001b[0m \u001b[34mroot[11300]\u001b[0m \u001b[1;30mDEBUG\u001b[0m \u001b[32mSell at: $111.67 | Position: -$3.35\u001b[0m\n"
     ]
    },
    {
     "name": "stdout",
     "output_type": "stream",
     "text": [
      "1/1 [==============================] - 0s 46ms/step\n"
     ]
    },
    {
     "name": "stderr",
     "output_type": "stream",
     "text": [
      "\u001b[32m2022-12-21 20:17:50\u001b[0m \u001b[35mDESKTOP-60Q2LKA\u001b[0m \u001b[34mroot[11300]\u001b[0m \u001b[1;30mDEBUG\u001b[0m \u001b[32mBuy at: $105.93\u001b[0m\n"
     ]
    },
    {
     "name": "stdout",
     "output_type": "stream",
     "text": [
      "1/1 [==============================] - 0s 45ms/step\n"
     ]
    },
    {
     "name": "stderr",
     "output_type": "stream",
     "text": [
      "\u001b[32m2022-12-21 20:17:50\u001b[0m \u001b[35mDESKTOP-60Q2LKA\u001b[0m \u001b[34mroot[11300]\u001b[0m \u001b[1;30mDEBUG\u001b[0m \u001b[32mSell at: $105.84 | Position: -$13.57\u001b[0m\n"
     ]
    },
    {
     "name": "stdout",
     "output_type": "stream",
     "text": [
      "1/1 [==============================] - 0s 28ms/step\n"
     ]
    },
    {
     "name": "stderr",
     "output_type": "stream",
     "text": [
      "\u001b[32m2022-12-21 20:17:50\u001b[0m \u001b[35mDESKTOP-60Q2LKA\u001b[0m \u001b[34mroot[11300]\u001b[0m \u001b[1;30mDEBUG\u001b[0m \u001b[32mBuy at: $108.30\u001b[0m\n"
     ]
    },
    {
     "name": "stdout",
     "output_type": "stream",
     "text": [
      "1/1 [==============================] - 0s 55ms/step\n"
     ]
    },
    {
     "name": "stderr",
     "output_type": "stream",
     "text": [
      "\u001b[32m2022-12-21 20:17:51\u001b[0m \u001b[35mDESKTOP-60Q2LKA\u001b[0m \u001b[34mroot[11300]\u001b[0m \u001b[1;30mDEBUG\u001b[0m \u001b[32mSell at: $112.80 | Position: -$2.17\u001b[0m\n"
     ]
    },
    {
     "name": "stdout",
     "output_type": "stream",
     "text": [
      "1/1 [==============================] - 0s 42ms/step\n"
     ]
    },
    {
     "name": "stderr",
     "output_type": "stream",
     "text": [
      "\u001b[32m2022-12-21 20:17:51\u001b[0m \u001b[35mDESKTOP-60Q2LKA\u001b[0m \u001b[34mroot[11300]\u001b[0m \u001b[1;30mDEBUG\u001b[0m \u001b[32mSell at: $114.04 | Position: -$4.09\u001b[0m\n"
     ]
    },
    {
     "name": "stdout",
     "output_type": "stream",
     "text": [
      "1/1 [==============================] - 0s 36ms/step\n"
     ]
    },
    {
     "name": "stderr",
     "output_type": "stream",
     "text": [
      "\u001b[32m2022-12-21 20:17:51\u001b[0m \u001b[35mDESKTOP-60Q2LKA\u001b[0m \u001b[34mroot[11300]\u001b[0m \u001b[1;30mDEBUG\u001b[0m \u001b[32mSell at: $114.14 | Position: -$8.44\u001b[0m\n"
     ]
    },
    {
     "name": "stdout",
     "output_type": "stream",
     "text": [
      "1/1 [==============================] - 0s 47ms/step\n"
     ]
    },
    {
     "name": "stderr",
     "output_type": "stream",
     "text": [
      "\u001b[32m2022-12-21 20:17:51\u001b[0m \u001b[35mDESKTOP-60Q2LKA\u001b[0m \u001b[34mroot[11300]\u001b[0m \u001b[1;30mDEBUG\u001b[0m \u001b[32mSell at: $117.75 | Position: +$4.66\u001b[0m\n"
     ]
    },
    {
     "name": "stdout",
     "output_type": "stream",
     "text": [
      "1/1 [==============================] - 0s 53ms/step\n"
     ]
    },
    {
     "name": "stderr",
     "output_type": "stream",
     "text": [
      "\u001b[32m2022-12-21 20:17:51\u001b[0m \u001b[35mDESKTOP-60Q2LKA\u001b[0m \u001b[34mroot[11300]\u001b[0m \u001b[1;30mDEBUG\u001b[0m \u001b[32mSell at: $114.56 | Position: +$2.16\u001b[0m\n"
     ]
    },
    {
     "name": "stdout",
     "output_type": "stream",
     "text": [
      "1/1 [==============================] - 0s 39ms/step\n"
     ]
    },
    {
     "name": "stderr",
     "output_type": "stream",
     "text": [
      "\u001b[32m2022-12-21 20:17:51\u001b[0m \u001b[35mDESKTOP-60Q2LKA\u001b[0m \u001b[34mroot[11300]\u001b[0m \u001b[1;30mDEBUG\u001b[0m \u001b[32mSell at: $117.01 | Position: +$11.08\u001b[0m\n"
     ]
    },
    {
     "name": "stdout",
     "output_type": "stream",
     "text": [
      "1/1 [==============================] - 0s 35ms/step\n"
     ]
    },
    {
     "name": "stderr",
     "output_type": "stream",
     "text": [
      "\u001b[32m2022-12-21 20:17:51\u001b[0m \u001b[35mDESKTOP-60Q2LKA\u001b[0m \u001b[34mroot[11300]\u001b[0m \u001b[1;30mDEBUG\u001b[0m \u001b[32mSell at: $117.23 | Position: +$8.93\u001b[0m\n"
     ]
    },
    {
     "name": "stdout",
     "output_type": "stream",
     "text": [
      "1/1 [==============================] - 0s 42ms/step\n",
      "1/1 [==============================] - 0s 36ms/step\n",
      "1/1 [==============================] - 0s 40ms/step\n"
     ]
    },
    {
     "name": "stderr",
     "output_type": "stream",
     "text": [
      "\u001b[32m2022-12-21 20:17:51\u001b[0m \u001b[35mDESKTOP-60Q2LKA\u001b[0m \u001b[34mroot[11300]\u001b[0m \u001b[1;30mDEBUG\u001b[0m \u001b[32mBuy at: $111.43\u001b[0m\n"
     ]
    },
    {
     "name": "stdout",
     "output_type": "stream",
     "text": [
      "1/1 [==============================] - 0s 40ms/step\n"
     ]
    },
    {
     "name": "stderr",
     "output_type": "stream",
     "text": [
      "\u001b[32m2022-12-21 20:17:52\u001b[0m \u001b[35mDESKTOP-60Q2LKA\u001b[0m \u001b[34mroot[11300]\u001b[0m \u001b[1;30mDEBUG\u001b[0m \u001b[32mBuy at: $106.88\u001b[0m\n"
     ]
    },
    {
     "name": "stdout",
     "output_type": "stream",
     "text": [
      "1/1 [==============================] - 0s 43ms/step\n"
     ]
    },
    {
     "name": "stderr",
     "output_type": "stream",
     "text": [
      "\u001b[32m2022-12-21 20:17:52\u001b[0m \u001b[35mDESKTOP-60Q2LKA\u001b[0m \u001b[34mroot[11300]\u001b[0m \u001b[1;30mDEBUG\u001b[0m \u001b[32mBuy at: $107.19\u001b[0m\n"
     ]
    },
    {
     "name": "stdout",
     "output_type": "stream",
     "text": [
      "1/1 [==============================] - 0s 33ms/step\n"
     ]
    },
    {
     "name": "stderr",
     "output_type": "stream",
     "text": [
      "\u001b[32m2022-12-21 20:17:52\u001b[0m \u001b[35mDESKTOP-60Q2LKA\u001b[0m \u001b[34mroot[11300]\u001b[0m \u001b[1;30mDEBUG\u001b[0m \u001b[32mSell at: $110.39 | Position: -$1.04\u001b[0m\n"
     ]
    },
    {
     "name": "stdout",
     "output_type": "stream",
     "text": [
      "1/1 [==============================] - 0s 48ms/step\n"
     ]
    },
    {
     "name": "stderr",
     "output_type": "stream",
     "text": [
      "\u001b[32m2022-12-21 20:17:52\u001b[0m \u001b[35mDESKTOP-60Q2LKA\u001b[0m \u001b[34mroot[11300]\u001b[0m \u001b[1;30mDEBUG\u001b[0m \u001b[32mSell at: $106.64 | Position: -$0.24\u001b[0m\n"
     ]
    },
    {
     "name": "stdout",
     "output_type": "stream",
     "text": [
      "1/1 [==============================] - 0s 39ms/step\n"
     ]
    },
    {
     "name": "stderr",
     "output_type": "stream",
     "text": [
      "\u001b[32m2022-12-21 20:17:52\u001b[0m \u001b[35mDESKTOP-60Q2LKA\u001b[0m \u001b[34mroot[11300]\u001b[0m \u001b[1;30mDEBUG\u001b[0m \u001b[32mBuy at: $107.87\u001b[0m\n"
     ]
    },
    {
     "name": "stdout",
     "output_type": "stream",
     "text": [
      "1/1 [==============================] - 0s 35ms/step\n"
     ]
    },
    {
     "name": "stderr",
     "output_type": "stream",
     "text": [
      "\u001b[32m2022-12-21 20:17:52\u001b[0m \u001b[35mDESKTOP-60Q2LKA\u001b[0m \u001b[34mroot[11300]\u001b[0m \u001b[1;30mDEBUG\u001b[0m \u001b[32mBuy at: $112.01\u001b[0m\n"
     ]
    },
    {
     "name": "stdout",
     "output_type": "stream",
     "text": [
      "1/1 [==============================] - 0s 31ms/step\n"
     ]
    },
    {
     "name": "stderr",
     "output_type": "stream",
     "text": [
      "\u001b[32m2022-12-21 20:17:52\u001b[0m \u001b[35mDESKTOP-60Q2LKA\u001b[0m \u001b[34mroot[11300]\u001b[0m \u001b[1;30mDEBUG\u001b[0m \u001b[32mBuy at: $112.03\u001b[0m\n"
     ]
    },
    {
     "name": "stdout",
     "output_type": "stream",
     "text": [
      "1/1 [==============================] - 0s 36ms/step\n"
     ]
    },
    {
     "name": "stderr",
     "output_type": "stream",
     "text": [
      "\u001b[32m2022-12-21 20:17:52\u001b[0m \u001b[35mDESKTOP-60Q2LKA\u001b[0m \u001b[34mroot[11300]\u001b[0m \u001b[1;30mDEBUG\u001b[0m \u001b[32mBuy at: $112.68\u001b[0m\n"
     ]
    },
    {
     "name": "stdout",
     "output_type": "stream",
     "text": [
      "1/1 [==============================] - 0s 58ms/step\n"
     ]
    },
    {
     "name": "stderr",
     "output_type": "stream",
     "text": [
      "\u001b[32m2022-12-21 20:17:53\u001b[0m \u001b[35mDESKTOP-60Q2LKA\u001b[0m \u001b[34mroot[11300]\u001b[0m \u001b[1;30mDEBUG\u001b[0m \u001b[32mSell at: $118.54 | Position: +$11.34\u001b[0m\n"
     ]
    },
    {
     "name": "stdout",
     "output_type": "stream",
     "text": [
      "1/1 [==============================] - 0s 53ms/step\n"
     ]
    },
    {
     "name": "stderr",
     "output_type": "stream",
     "text": [
      "\u001b[32m2022-12-21 20:17:53\u001b[0m \u001b[35mDESKTOP-60Q2LKA\u001b[0m \u001b[34mroot[11300]\u001b[0m \u001b[1;30mDEBUG\u001b[0m \u001b[32mSell at: $116.62 | Position: +$8.76\u001b[0m\n"
     ]
    },
    {
     "name": "stdout",
     "output_type": "stream",
     "text": [
      "1/1 [==============================] - 0s 45ms/step\n"
     ]
    },
    {
     "name": "stderr",
     "output_type": "stream",
     "text": [
      "\u001b[32m2022-12-21 20:17:53\u001b[0m \u001b[35mDESKTOP-60Q2LKA\u001b[0m \u001b[34mroot[11300]\u001b[0m \u001b[1;30mDEBUG\u001b[0m \u001b[32mSell at: $112.57 | Position: +$0.56\u001b[0m\n"
     ]
    },
    {
     "name": "stdout",
     "output_type": "stream",
     "text": [
      "1/1 [==============================] - 0s 24ms/step\n"
     ]
    },
    {
     "name": "stderr",
     "output_type": "stream",
     "text": [
      "\u001b[32m2022-12-21 20:17:53\u001b[0m \u001b[35mDESKTOP-60Q2LKA\u001b[0m \u001b[34mroot[11300]\u001b[0m \u001b[1;30mDEBUG\u001b[0m \u001b[32mSell at: $112.26 | Position: +$0.22\u001b[0m\n"
     ]
    },
    {
     "name": "stdout",
     "output_type": "stream",
     "text": [
      "1/1 [==============================] - 0s 41ms/step\n"
     ]
    },
    {
     "name": "stderr",
     "output_type": "stream",
     "text": [
      "\u001b[32m2022-12-21 20:17:53\u001b[0m \u001b[35mDESKTOP-60Q2LKA\u001b[0m \u001b[34mroot[11300]\u001b[0m \u001b[1;30mDEBUG\u001b[0m \u001b[32mSell at: $109.37 | Position: -$3.31\u001b[0m\n"
     ]
    },
    {
     "name": "stdout",
     "output_type": "stream",
     "text": [
      "1/1 [==============================] - 0s 37ms/step\n"
     ]
    },
    {
     "name": "stderr",
     "output_type": "stream",
     "text": [
      "\u001b[32m2022-12-21 20:17:53\u001b[0m \u001b[35mDESKTOP-60Q2LKA\u001b[0m \u001b[34mroot[11300]\u001b[0m \u001b[1;30mDEBUG\u001b[0m \u001b[32mBuy at: $109.08\u001b[0m\n"
     ]
    },
    {
     "name": "stdout",
     "output_type": "stream",
     "text": [
      "1/1 [==============================] - 0s 62ms/step\n"
     ]
    },
    {
     "name": "stderr",
     "output_type": "stream",
     "text": [
      "\u001b[32m2022-12-21 20:17:53\u001b[0m \u001b[35mDESKTOP-60Q2LKA\u001b[0m \u001b[34mroot[11300]\u001b[0m \u001b[1;30mDEBUG\u001b[0m \u001b[32mSell at: $113.89 | Position: +$4.81\u001b[0m\n"
     ]
    },
    {
     "name": "stdout",
     "output_type": "stream",
     "text": [
      "1/1 [==============================] - 0s 47ms/step\n",
      "1/1 [==============================] - 0s 27ms/step\n",
      "1/1 [==============================] - 0s 35ms/step\n",
      "1/1 [==============================] - 0s 30ms/step\n"
     ]
    },
    {
     "name": "stderr",
     "output_type": "stream",
     "text": [
      "\u001b[32m2022-12-21 20:17:54\u001b[0m \u001b[35mDESKTOP-60Q2LKA\u001b[0m \u001b[34mroot[11300]\u001b[0m \u001b[1;30mDEBUG\u001b[0m \u001b[32mBuy at: $116.52\u001b[0m\n"
     ]
    },
    {
     "name": "stdout",
     "output_type": "stream",
     "text": [
      "1/1 [==============================] - 0s 49ms/step\n"
     ]
    },
    {
     "name": "stderr",
     "output_type": "stream",
     "text": [
      "\u001b[32m2022-12-21 20:17:54\u001b[0m \u001b[35mDESKTOP-60Q2LKA\u001b[0m \u001b[34mroot[11300]\u001b[0m \u001b[1;30mDEBUG\u001b[0m \u001b[32mBuy at: $114.85\u001b[0m\n"
     ]
    },
    {
     "name": "stdout",
     "output_type": "stream",
     "text": [
      "1/1 [==============================] - 0s 33ms/step\n"
     ]
    },
    {
     "name": "stderr",
     "output_type": "stream",
     "text": [
      "\u001b[32m2022-12-21 20:17:54\u001b[0m \u001b[35mDESKTOP-60Q2LKA\u001b[0m \u001b[34mroot[11300]\u001b[0m \u001b[1;30mDEBUG\u001b[0m \u001b[32mSell at: $112.19 | Position: -$4.34\u001b[0m\n"
     ]
    },
    {
     "name": "stdout",
     "output_type": "stream",
     "text": [
      "1/1 [==============================] - 0s 60ms/step\n"
     ]
    },
    {
     "name": "stderr",
     "output_type": "stream",
     "text": [
      "\u001b[32m2022-12-21 20:17:54\u001b[0m \u001b[35mDESKTOP-60Q2LKA\u001b[0m \u001b[34mroot[11300]\u001b[0m \u001b[1;30mDEBUG\u001b[0m \u001b[32mBuy at: $111.44\u001b[0m\n"
     ]
    },
    {
     "name": "stdout",
     "output_type": "stream",
     "text": [
      "1/1 [==============================] - 0s 24ms/step\n"
     ]
    },
    {
     "name": "stderr",
     "output_type": "stream",
     "text": [
      "\u001b[32m2022-12-21 20:17:54\u001b[0m \u001b[35mDESKTOP-60Q2LKA\u001b[0m \u001b[34mroot[11300]\u001b[0m \u001b[1;30mDEBUG\u001b[0m \u001b[32mBuy at: $112.77\u001b[0m\n"
     ]
    },
    {
     "name": "stdout",
     "output_type": "stream",
     "text": [
      "1/1 [==============================] - 0s 38ms/step\n"
     ]
    },
    {
     "name": "stderr",
     "output_type": "stream",
     "text": [
      "\u001b[32m2022-12-21 20:17:54\u001b[0m \u001b[35mDESKTOP-60Q2LKA\u001b[0m \u001b[34mroot[11300]\u001b[0m \u001b[1;30mDEBUG\u001b[0m \u001b[32mBuy at: $109.91\u001b[0m\n"
     ]
    },
    {
     "name": "stdout",
     "output_type": "stream",
     "text": [
      "1/1 [==============================] - 0s 66ms/step\n"
     ]
    },
    {
     "name": "stderr",
     "output_type": "stream",
     "text": [
      "\u001b[32m2022-12-21 20:17:55\u001b[0m \u001b[35mDESKTOP-60Q2LKA\u001b[0m \u001b[34mroot[11300]\u001b[0m \u001b[1;30mDEBUG\u001b[0m \u001b[32mBuy at: $114.62\u001b[0m\n"
     ]
    },
    {
     "name": "stdout",
     "output_type": "stream",
     "text": [
      "1/1 [==============================] - 0s 65ms/step\n"
     ]
    },
    {
     "name": "stderr",
     "output_type": "stream",
     "text": [
      "\u001b[32m2022-12-21 20:17:55\u001b[0m \u001b[35mDESKTOP-60Q2LKA\u001b[0m \u001b[34mroot[11300]\u001b[0m \u001b[1;30mDEBUG\u001b[0m \u001b[32mBuy at: $114.70\u001b[0m\n"
     ]
    },
    {
     "name": "stdout",
     "output_type": "stream",
     "text": [
      "1/1 [==============================] - 0s 46ms/step\n"
     ]
    },
    {
     "name": "stderr",
     "output_type": "stream",
     "text": [
      "\u001b[32m2022-12-21 20:17:55\u001b[0m \u001b[35mDESKTOP-60Q2LKA\u001b[0m \u001b[34mroot[11300]\u001b[0m \u001b[1;30mDEBUG\u001b[0m \u001b[32mBuy at: $115.04\u001b[0m\n"
     ]
    },
    {
     "name": "stdout",
     "output_type": "stream",
     "text": [
      "1/1 [==============================] - 0s 32ms/step\n"
     ]
    },
    {
     "name": "stderr",
     "output_type": "stream",
     "text": [
      "\u001b[32m2022-12-21 20:17:55\u001b[0m \u001b[35mDESKTOP-60Q2LKA\u001b[0m \u001b[34mroot[11300]\u001b[0m \u001b[1;30mDEBUG\u001b[0m \u001b[32mBuy at: $108.36\u001b[0m\n"
     ]
    },
    {
     "name": "stdout",
     "output_type": "stream",
     "text": [
      "1/1 [==============================] - 0s 34ms/step\n"
     ]
    },
    {
     "name": "stderr",
     "output_type": "stream",
     "text": [
      "\u001b[32m2022-12-21 20:17:55\u001b[0m \u001b[35mDESKTOP-60Q2LKA\u001b[0m \u001b[34mroot[11300]\u001b[0m \u001b[1;30mDEBUG\u001b[0m \u001b[32mSell at: $108.21 | Position: -$6.64\u001b[0m\n"
     ]
    },
    {
     "name": "stdout",
     "output_type": "stream",
     "text": [
      "1/1 [==============================] - 0s 43ms/step\n"
     ]
    },
    {
     "name": "stderr",
     "output_type": "stream",
     "text": [
      "\u001b[32m2022-12-21 20:17:55\u001b[0m \u001b[35mDESKTOP-60Q2LKA\u001b[0m \u001b[34mroot[11300]\u001b[0m \u001b[1;30mDEBUG\u001b[0m \u001b[32mSell at: $105.44 | Position: -$6.00\u001b[0m\n"
     ]
    },
    {
     "name": "stdout",
     "output_type": "stream",
     "text": [
      "1/1 [==============================] - 0s 34ms/step\n"
     ]
    },
    {
     "name": "stderr",
     "output_type": "stream",
     "text": [
      "\u001b[32m2022-12-21 20:17:55\u001b[0m \u001b[35mDESKTOP-60Q2LKA\u001b[0m \u001b[34mroot[11300]\u001b[0m \u001b[1;30mDEBUG\u001b[0m \u001b[32mSell at: $113.60 | Position: +$0.83\u001b[0m\n"
     ]
    },
    {
     "name": "stdout",
     "output_type": "stream",
     "text": [
      "1/1 [==============================] - 0s 72ms/step\n"
     ]
    },
    {
     "name": "stderr",
     "output_type": "stream",
     "text": [
      "\u001b[32m2022-12-21 20:17:56\u001b[0m \u001b[35mDESKTOP-60Q2LKA\u001b[0m \u001b[34mroot[11300]\u001b[0m \u001b[1;30mDEBUG\u001b[0m \u001b[32mBuy at: $114.59\u001b[0m\n"
     ]
    },
    {
     "name": "stdout",
     "output_type": "stream",
     "text": [
      "1/1 [==============================] - 0s 60ms/step\n"
     ]
    },
    {
     "name": "stderr",
     "output_type": "stream",
     "text": [
      "\u001b[32m2022-12-21 20:17:56\u001b[0m \u001b[35mDESKTOP-60Q2LKA\u001b[0m \u001b[34mroot[11300]\u001b[0m \u001b[1;30mDEBUG\u001b[0m \u001b[32mSell at: $116.64 | Position: +$6.73\u001b[0m\n"
     ]
    },
    {
     "name": "stdout",
     "output_type": "stream",
     "text": [
      "1/1 [==============================] - 0s 33ms/step\n"
     ]
    },
    {
     "name": "stderr",
     "output_type": "stream",
     "text": [
      "\u001b[32m2022-12-21 20:17:56\u001b[0m \u001b[35mDESKTOP-60Q2LKA\u001b[0m \u001b[34mroot[11300]\u001b[0m \u001b[1;30mDEBUG\u001b[0m \u001b[32mSell at: $115.48 | Position: +$0.86\u001b[0m\n"
     ]
    },
    {
     "name": "stdout",
     "output_type": "stream",
     "text": [
      "1/1 [==============================] - 0s 67ms/step\n"
     ]
    },
    {
     "name": "stderr",
     "output_type": "stream",
     "text": [
      "\u001b[32m2022-12-21 20:17:56\u001b[0m \u001b[35mDESKTOP-60Q2LKA\u001b[0m \u001b[34mroot[11300]\u001b[0m \u001b[1;30mDEBUG\u001b[0m \u001b[32mSell at: $115.90 | Position: +$1.20\u001b[0m\n"
     ]
    },
    {
     "name": "stdout",
     "output_type": "stream",
     "text": [
      "1/1 [==============================] - 0s 31ms/step\n"
     ]
    },
    {
     "name": "stderr",
     "output_type": "stream",
     "text": [
      "\u001b[32m2022-12-21 20:17:56\u001b[0m \u001b[35mDESKTOP-60Q2LKA\u001b[0m \u001b[34mroot[11300]\u001b[0m \u001b[1;30mDEBUG\u001b[0m \u001b[32mSell at: $118.78 | Position: +$3.74\u001b[0m\n"
     ]
    },
    {
     "name": "stdout",
     "output_type": "stream",
     "text": [
      "1/1 [==============================] - 0s 38ms/step\n"
     ]
    },
    {
     "name": "stderr",
     "output_type": "stream",
     "text": [
      "\u001b[32m2022-12-21 20:17:56\u001b[0m \u001b[35mDESKTOP-60Q2LKA\u001b[0m \u001b[34mroot[11300]\u001b[0m \u001b[1;30mDEBUG\u001b[0m \u001b[32mBuy at: $118.87\u001b[0m\n"
     ]
    },
    {
     "name": "stdout",
     "output_type": "stream",
     "text": [
      "1/1 [==============================] - 0s 38ms/step\n"
     ]
    },
    {
     "name": "stderr",
     "output_type": "stream",
     "text": [
      "\u001b[32m2022-12-21 20:17:56\u001b[0m \u001b[35mDESKTOP-60Q2LKA\u001b[0m \u001b[34mroot[11300]\u001b[0m \u001b[1;30mDEBUG\u001b[0m \u001b[32mSell at: $118.22 | Position: +$9.86\u001b[0m\n"
     ]
    },
    {
     "name": "stdout",
     "output_type": "stream",
     "text": [
      "1/1 [==============================] - 0s 24ms/step\n"
     ]
    },
    {
     "name": "stderr",
     "output_type": "stream",
     "text": [
      "\u001b[32m2022-12-21 20:17:56\u001b[0m \u001b[35mDESKTOP-60Q2LKA\u001b[0m \u001b[34mroot[11300]\u001b[0m \u001b[1;30mDEBUG\u001b[0m \u001b[32mSell at: $118.14 | Position: +$3.55\u001b[0m\n"
     ]
    },
    {
     "name": "stdout",
     "output_type": "stream",
     "text": [
      "1/1 [==============================] - 0s 26ms/step\n"
     ]
    },
    {
     "name": "stderr",
     "output_type": "stream",
     "text": [
      "\u001b[32m2022-12-21 20:17:56\u001b[0m \u001b[35mDESKTOP-60Q2LKA\u001b[0m \u001b[34mroot[11300]\u001b[0m \u001b[1;30mDEBUG\u001b[0m \u001b[32mSell at: $117.50 | Position: -$1.37\u001b[0m\n"
     ]
    },
    {
     "name": "stdout",
     "output_type": "stream",
     "text": [
      "1/1 [==============================] - 0s 38ms/step\n",
      "1/1 [==============================] - 0s 22ms/step\n",
      "1/1 [==============================] - 0s 70ms/step\n",
      "1/1 [==============================] - 0s 53ms/step\n",
      "1/1 [==============================] - 0s 34ms/step\n",
      "1/1 [==============================] - 0s 36ms/step\n",
      "1/1 [==============================] - 0s 46ms/step\n",
      "1/1 [==============================] - 0s 43ms/step\n",
      "1/1 [==============================] - 0s 43ms/step\n",
      "1/1 [==============================] - 0s 35ms/step\n",
      "1/1 [==============================] - 0s 54ms/step\n"
     ]
    },
    {
     "name": "stderr",
     "output_type": "stream",
     "text": [
      "\u001b[32m2022-12-21 20:17:58\u001b[0m \u001b[35mDESKTOP-60Q2LKA\u001b[0m \u001b[34mroot[11300]\u001b[0m \u001b[1;30mDEBUG\u001b[0m \u001b[32mBuy at: $114.70\u001b[0m\n"
     ]
    },
    {
     "name": "stdout",
     "output_type": "stream",
     "text": [
      "1/1 [==============================] - 0s 38ms/step\n"
     ]
    },
    {
     "name": "stderr",
     "output_type": "stream",
     "text": [
      "\u001b[32m2022-12-21 20:17:58\u001b[0m \u001b[35mDESKTOP-60Q2LKA\u001b[0m \u001b[34mroot[11300]\u001b[0m \u001b[1;30mDEBUG\u001b[0m \u001b[32mSell at: $117.70 | Position: +$3.00\u001b[0m\n"
     ]
    },
    {
     "name": "stdout",
     "output_type": "stream",
     "text": [
      "1/1 [==============================] - 0s 40ms/step\n"
     ]
    },
    {
     "name": "stderr",
     "output_type": "stream",
     "text": [
      "\u001b[32m2022-12-21 20:17:58\u001b[0m \u001b[35mDESKTOP-60Q2LKA\u001b[0m \u001b[34mroot[11300]\u001b[0m \u001b[1;30mDEBUG\u001b[0m \u001b[32mBuy at: $111.30\u001b[0m\n"
     ]
    },
    {
     "name": "stdout",
     "output_type": "stream",
     "text": [
      "1/1 [==============================] - 0s 50ms/step\n"
     ]
    },
    {
     "name": "stderr",
     "output_type": "stream",
     "text": [
      "\u001b[32m2022-12-21 20:17:58\u001b[0m \u001b[35mDESKTOP-60Q2LKA\u001b[0m \u001b[34mroot[11300]\u001b[0m \u001b[1;30mDEBUG\u001b[0m \u001b[32mBuy at: $110.34\u001b[0m\n"
     ]
    },
    {
     "name": "stdout",
     "output_type": "stream",
     "text": [
      "1/1 [==============================] - 0s 25ms/step\n"
     ]
    },
    {
     "name": "stderr",
     "output_type": "stream",
     "text": [
      "\u001b[32m2022-12-21 20:17:58\u001b[0m \u001b[35mDESKTOP-60Q2LKA\u001b[0m \u001b[34mroot[11300]\u001b[0m \u001b[1;30mDEBUG\u001b[0m \u001b[32mSell at: $109.91 | Position: -$1.39\u001b[0m\n"
     ]
    },
    {
     "name": "stdout",
     "output_type": "stream",
     "text": [
      "1/1 [==============================] - 0s 18ms/step\n"
     ]
    },
    {
     "name": "stderr",
     "output_type": "stream",
     "text": [
      "\u001b[32m2022-12-21 20:17:58\u001b[0m \u001b[35mDESKTOP-60Q2LKA\u001b[0m \u001b[34mroot[11300]\u001b[0m \u001b[1;30mDEBUG\u001b[0m \u001b[32mBuy at: $109.15\u001b[0m\n"
     ]
    },
    {
     "name": "stdout",
     "output_type": "stream",
     "text": [
      "1/1 [==============================] - 0s 49ms/step\n"
     ]
    },
    {
     "name": "stderr",
     "output_type": "stream",
     "text": [
      "\u001b[32m2022-12-21 20:17:58\u001b[0m \u001b[35mDESKTOP-60Q2LKA\u001b[0m \u001b[34mroot[11300]\u001b[0m \u001b[1;30mDEBUG\u001b[0m \u001b[32mBuy at: $110.55\u001b[0m\n"
     ]
    },
    {
     "name": "stdout",
     "output_type": "stream",
     "text": [
      "1/1 [==============================] - 0s 47ms/step\n"
     ]
    },
    {
     "name": "stderr",
     "output_type": "stream",
     "text": [
      "\u001b[32m2022-12-21 20:17:59\u001b[0m \u001b[35mDESKTOP-60Q2LKA\u001b[0m \u001b[34mroot[11300]\u001b[0m \u001b[1;30mDEBUG\u001b[0m \u001b[32mSell at: $108.68 | Position: -$1.66\u001b[0m\n"
     ]
    },
    {
     "name": "stdout",
     "output_type": "stream",
     "text": [
      "1/1 [==============================] - 0s 28ms/step\n"
     ]
    },
    {
     "name": "stderr",
     "output_type": "stream",
     "text": [
      "\u001b[32m2022-12-21 20:17:59\u001b[0m \u001b[35mDESKTOP-60Q2LKA\u001b[0m \u001b[34mroot[11300]\u001b[0m \u001b[1;30mDEBUG\u001b[0m \u001b[32mBuy at: $107.48\u001b[0m\n"
     ]
    },
    {
     "name": "stdout",
     "output_type": "stream",
     "text": [
      "1/1 [==============================] - 0s 33ms/step\n"
     ]
    },
    {
     "name": "stderr",
     "output_type": "stream",
     "text": [
      "\u001b[32m2022-12-21 20:17:59\u001b[0m \u001b[35mDESKTOP-60Q2LKA\u001b[0m \u001b[34mroot[11300]\u001b[0m \u001b[1;30mDEBUG\u001b[0m \u001b[32mSell at: $110.48 | Position: +$1.33\u001b[0m\n"
     ]
    },
    {
     "name": "stdout",
     "output_type": "stream",
     "text": [
      "1/1 [==============================] - 0s 28ms/step\n"
     ]
    },
    {
     "name": "stderr",
     "output_type": "stream",
     "text": [
      "\u001b[32m2022-12-21 20:17:59\u001b[0m \u001b[35mDESKTOP-60Q2LKA\u001b[0m \u001b[34mroot[11300]\u001b[0m \u001b[1;30mDEBUG\u001b[0m \u001b[32mSell at: $109.42 | Position: -$1.13\u001b[0m\n"
     ]
    },
    {
     "name": "stdout",
     "output_type": "stream",
     "text": [
      "1/1 [==============================] - 0s 29ms/step\n"
     ]
    },
    {
     "name": "stderr",
     "output_type": "stream",
     "text": [
      "\u001b[32m2022-12-21 20:17:59\u001b[0m \u001b[35mDESKTOP-60Q2LKA\u001b[0m \u001b[34mroot[11300]\u001b[0m \u001b[1;30mDEBUG\u001b[0m \u001b[32mSell at: $111.78 | Position: +$4.30\u001b[0m\n"
     ]
    },
    {
     "name": "stdout",
     "output_type": "stream",
     "text": [
      "1/1 [==============================] - 0s 19ms/step\n",
      "1/1 [==============================] - 0s 24ms/step\n",
      "1/1 [==============================] - 0s 32ms/step\n",
      "1/1 [==============================] - 0s 34ms/step\n"
     ]
    },
    {
     "name": "stderr",
     "output_type": "stream",
     "text": [
      "\u001b[32m2022-12-21 20:17:59\u001b[0m \u001b[35mDESKTOP-60Q2LKA\u001b[0m \u001b[34mroot[11300]\u001b[0m \u001b[1;30mDEBUG\u001b[0m \u001b[32mBuy at: $103.90\u001b[0m\n"
     ]
    },
    {
     "name": "stdout",
     "output_type": "stream",
     "text": [
      "1/1 [==============================] - 0s 82ms/step\n"
     ]
    },
    {
     "name": "stderr",
     "output_type": "stream",
     "text": [
      "\u001b[32m2022-12-21 20:17:59\u001b[0m \u001b[35mDESKTOP-60Q2LKA\u001b[0m \u001b[34mroot[11300]\u001b[0m \u001b[1;30mDEBUG\u001b[0m \u001b[32mBuy at: $103.63\u001b[0m\n"
     ]
    },
    {
     "name": "stdout",
     "output_type": "stream",
     "text": [
      "1/1 [==============================] - 0s 33ms/step\n"
     ]
    },
    {
     "name": "stderr",
     "output_type": "stream",
     "text": [
      "\u001b[32m2022-12-21 20:18:00\u001b[0m \u001b[35mDESKTOP-60Q2LKA\u001b[0m \u001b[34mroot[11300]\u001b[0m \u001b[1;30mDEBUG\u001b[0m \u001b[32mSell at: $103.85 | Position: -$0.05\u001b[0m\n"
     ]
    },
    {
     "name": "stdout",
     "output_type": "stream",
     "text": [
      "1/1 [==============================] - 0s 52ms/step\n"
     ]
    },
    {
     "name": "stderr",
     "output_type": "stream",
     "text": [
      "\u001b[32m2022-12-21 20:18:00\u001b[0m \u001b[35mDESKTOP-60Q2LKA\u001b[0m \u001b[34mroot[11300]\u001b[0m \u001b[1;30mDEBUG\u001b[0m \u001b[32mSell at: $101.83 | Position: -$1.80\u001b[0m\n"
     ]
    },
    {
     "name": "stdout",
     "output_type": "stream",
     "text": [
      "1/1 [==============================] - 0s 38ms/step\n",
      "1/1 [==============================] - 0s 64ms/step\n",
      "1/1 [==============================] - 0s 62ms/step\n"
     ]
    },
    {
     "name": "stderr",
     "output_type": "stream",
     "text": [
      "\u001b[32m2022-12-21 20:18:00\u001b[0m \u001b[35mDESKTOP-60Q2LKA\u001b[0m \u001b[34mroot[11300]\u001b[0m \u001b[1;30mDEBUG\u001b[0m \u001b[32mBuy at: $99.17\u001b[0m\n"
     ]
    },
    {
     "name": "stdout",
     "output_type": "stream",
     "text": [
      "1/1 [==============================] - 0s 44ms/step\n"
     ]
    },
    {
     "name": "stderr",
     "output_type": "stream",
     "text": [
      "\u001b[32m2022-12-21 20:18:00\u001b[0m \u001b[35mDESKTOP-60Q2LKA\u001b[0m \u001b[34mroot[11300]\u001b[0m \u001b[1;30mDEBUG\u001b[0m \u001b[32mSell at: $98.81 | Position: -$0.36\u001b[0m\n"
     ]
    },
    {
     "name": "stdout",
     "output_type": "stream",
     "text": [
      "1/1 [==============================] - 0s 36ms/step\n"
     ]
    },
    {
     "name": "stderr",
     "output_type": "stream",
     "text": [
      "\u001b[32m2022-12-21 20:18:01\u001b[0m \u001b[35mDESKTOP-60Q2LKA\u001b[0m \u001b[34mroot[11300]\u001b[0m \u001b[1;30mDEBUG\u001b[0m \u001b[32mBuy at: $98.09\u001b[0m\n"
     ]
    },
    {
     "name": "stdout",
     "output_type": "stream",
     "text": [
      "1/1 [==============================] - 0s 84ms/step\n"
     ]
    },
    {
     "name": "stderr",
     "output_type": "stream",
     "text": [
      "\u001b[32m2022-12-21 20:18:01\u001b[0m \u001b[35mDESKTOP-60Q2LKA\u001b[0m \u001b[34mroot[11300]\u001b[0m \u001b[1;30mDEBUG\u001b[0m \u001b[32mSell at: $100.74 | Position: +$2.65\u001b[0m\n"
     ]
    },
    {
     "name": "stdout",
     "output_type": "stream",
     "text": [
      "1/1 [==============================] - 0s 43ms/step\n",
      "1/1 [==============================] - 0s 35ms/step\n"
     ]
    },
    {
     "name": "stderr",
     "output_type": "stream",
     "text": [
      "\u001b[32m2022-12-21 20:18:01\u001b[0m \u001b[35mDESKTOP-60Q2LKA\u001b[0m \u001b[34mroot[11300]\u001b[0m \u001b[1;30mDEBUG\u001b[0m \u001b[32mBuy at: $96.15\u001b[0m\n"
     ]
    },
    {
     "name": "stdout",
     "output_type": "stream",
     "text": [
      "1/1 [==============================] - 0s 24ms/step\n"
     ]
    },
    {
     "name": "stderr",
     "output_type": "stream",
     "text": [
      "\u001b[32m2022-12-21 20:18:01\u001b[0m \u001b[35mDESKTOP-60Q2LKA\u001b[0m \u001b[34mroot[11300]\u001b[0m \u001b[1;30mDEBUG\u001b[0m \u001b[32mBuy at: $99.30\u001b[0m\n"
     ]
    },
    {
     "name": "stdout",
     "output_type": "stream",
     "text": [
      "1/1 [==============================] - 0s 31ms/step\n"
     ]
    },
    {
     "name": "stderr",
     "output_type": "stream",
     "text": [
      "\u001b[32m2022-12-21 20:18:01\u001b[0m \u001b[35mDESKTOP-60Q2LKA\u001b[0m \u001b[34mroot[11300]\u001b[0m \u001b[1;30mDEBUG\u001b[0m \u001b[32mSell at: $102.41 | Position: +$6.26\u001b[0m\n"
     ]
    },
    {
     "name": "stdout",
     "output_type": "stream",
     "text": [
      "1/1 [==============================] - 0s 24ms/step\n"
     ]
    },
    {
     "name": "stderr",
     "output_type": "stream",
     "text": [
      "\u001b[32m2022-12-21 20:18:01\u001b[0m \u001b[35mDESKTOP-60Q2LKA\u001b[0m \u001b[34mroot[11300]\u001b[0m \u001b[1;30mDEBUG\u001b[0m \u001b[32mSell at: $102.22 | Position: +$2.92\u001b[0m\n"
     ]
    },
    {
     "name": "stdout",
     "output_type": "stream",
     "text": [
      "1/1 [==============================] - 0s 37ms/step\n",
      "1/1 [==============================] - 0s 28ms/step\n",
      "1/1 [==============================] - 0s 35ms/step\n",
      "1/1 [==============================] - 0s 23ms/step\n",
      "1/1 [==============================] - 0s 32ms/step\n",
      "1/1 [==============================] - 0s 36ms/step\n"
     ]
    },
    {
     "name": "stderr",
     "output_type": "stream",
     "text": [
      "\u001b[32m2022-12-21 20:18:02\u001b[0m \u001b[35mDESKTOP-60Q2LKA\u001b[0m \u001b[34mroot[11300]\u001b[0m \u001b[1;30mDEBUG\u001b[0m \u001b[32mBuy at: $99.71\u001b[0m\n"
     ]
    },
    {
     "name": "stdout",
     "output_type": "stream",
     "text": [
      "1/1 [==============================] - 0s 36ms/step\n"
     ]
    },
    {
     "name": "stderr",
     "output_type": "stream",
     "text": [
      "\u001b[32m2022-12-21 20:18:02\u001b[0m \u001b[35mDESKTOP-60Q2LKA\u001b[0m \u001b[34mroot[11300]\u001b[0m \u001b[1;30mDEBUG\u001b[0m \u001b[32mSell at: $97.18 | Position: -$2.53\u001b[0m\n"
     ]
    },
    {
     "name": "stdout",
     "output_type": "stream",
     "text": [
      "1/1 [==============================] - 0s 26ms/step\n",
      "1/1 [==============================] - 0s 33ms/step\n",
      "1/1 [==============================] - 0s 33ms/step\n",
      "1/1 [==============================] - 0s 25ms/step\n"
     ]
    },
    {
     "name": "stderr",
     "output_type": "stream",
     "text": [
      "\u001b[32m2022-12-21 20:18:02\u001b[0m \u001b[35mDESKTOP-60Q2LKA\u001b[0m \u001b[34mroot[11300]\u001b[0m \u001b[1;30mDEBUG\u001b[0m \u001b[32mBuy at: $100.53\u001b[0m\n"
     ]
    },
    {
     "name": "stdout",
     "output_type": "stream",
     "text": [
      "1/1 [==============================] - 0s 19ms/step\n"
     ]
    },
    {
     "name": "stderr",
     "output_type": "stream",
     "text": [
      "\u001b[32m2022-12-21 20:18:02\u001b[0m \u001b[35mDESKTOP-60Q2LKA\u001b[0m \u001b[34mroot[11300]\u001b[0m \u001b[1;30mDEBUG\u001b[0m \u001b[32mBuy at: $101.48\u001b[0m\n"
     ]
    },
    {
     "name": "stdout",
     "output_type": "stream",
     "text": [
      "1/1 [==============================] - 0s 16ms/step\n"
     ]
    },
    {
     "name": "stderr",
     "output_type": "stream",
     "text": [
      "\u001b[32m2022-12-21 20:18:02\u001b[0m \u001b[35mDESKTOP-60Q2LKA\u001b[0m \u001b[34mroot[11300]\u001b[0m \u001b[1;30mDEBUG\u001b[0m \u001b[32mSell at: $102.97 | Position: +$2.44\u001b[0m\n"
     ]
    },
    {
     "name": "stdout",
     "output_type": "stream",
     "text": [
      "1/1 [==============================] - 0s 28ms/step\n"
     ]
    },
    {
     "name": "stderr",
     "output_type": "stream",
     "text": [
      "\u001b[32m2022-12-21 20:18:03\u001b[0m \u001b[35mDESKTOP-60Q2LKA\u001b[0m \u001b[34mroot[11300]\u001b[0m \u001b[1;30mDEBUG\u001b[0m \u001b[32mSell at: $104.93 | Position: +$3.45\u001b[0m\n"
     ]
    },
    {
     "name": "stdout",
     "output_type": "stream",
     "text": [
      "1/1 [==============================] - 0s 17ms/step\n",
      "1/1 [==============================] - 0s 32ms/step\n",
      "1/1 [==============================] - 0s 46ms/step\n",
      "1/1 [==============================] - 0s 23ms/step\n",
      "1/1 [==============================] - 0s 23ms/step\n",
      "1/1 [==============================] - 0s 17ms/step\n",
      "1/1 [==============================] - 0s 18ms/step\n"
     ]
    },
    {
     "name": "stderr",
     "output_type": "stream",
     "text": [
      "\u001b[32m2022-12-21 20:18:03\u001b[0m \u001b[35mDESKTOP-60Q2LKA\u001b[0m \u001b[34mroot[11300]\u001b[0m \u001b[1;30mDEBUG\u001b[0m \u001b[32mBuy at: $83.49\u001b[0m\n"
     ]
    },
    {
     "name": "stdout",
     "output_type": "stream",
     "text": [
      "1/1 [==============================] - 0s 23ms/step\n",
      "1/1 [==============================] - 0s 19ms/step\n"
     ]
    },
    {
     "name": "stderr",
     "output_type": "stream",
     "text": [
      "\u001b[32m2022-12-21 20:18:03\u001b[0m \u001b[35mDESKTOP-60Q2LKA\u001b[0m \u001b[34mroot[11300]\u001b[0m \u001b[1;30mDEBUG\u001b[0m \u001b[32mSell at: $88.65 | Position: +$5.16\u001b[0m\n"
     ]
    },
    {
     "name": "stdout",
     "output_type": "stream",
     "text": [
      "1/1 [==============================] - 0s 38ms/step\n"
     ]
    },
    {
     "name": "stderr",
     "output_type": "stream",
     "text": [
      "\u001b[32m2022-12-21 20:18:03\u001b[0m \u001b[35mDESKTOP-60Q2LKA\u001b[0m \u001b[34mroot[11300]\u001b[0m \u001b[1;30mDEBUG\u001b[0m \u001b[32mBuy at: $88.91\u001b[0m\n"
     ]
    },
    {
     "name": "stdout",
     "output_type": "stream",
     "text": [
      "1/1 [==============================] - 0s 59ms/step\n"
     ]
    },
    {
     "name": "stderr",
     "output_type": "stream",
     "text": [
      "\u001b[32m2022-12-21 20:18:03\u001b[0m \u001b[35mDESKTOP-60Q2LKA\u001b[0m \u001b[34mroot[11300]\u001b[0m \u001b[1;30mDEBUG\u001b[0m \u001b[32mBuy at: $87.40\u001b[0m\n"
     ]
    },
    {
     "name": "stdout",
     "output_type": "stream",
     "text": [
      "1/1 [==============================] - 0s 36ms/step\n"
     ]
    },
    {
     "name": "stderr",
     "output_type": "stream",
     "text": [
      "\u001b[32m2022-12-21 20:18:04\u001b[0m \u001b[35mDESKTOP-60Q2LKA\u001b[0m \u001b[34mroot[11300]\u001b[0m \u001b[1;30mDEBUG\u001b[0m \u001b[32mBuy at: $94.17\u001b[0m\n"
     ]
    },
    {
     "name": "stdout",
     "output_type": "stream",
     "text": [
      "1/1 [==============================] - 0s 39ms/step\n"
     ]
    },
    {
     "name": "stderr",
     "output_type": "stream",
     "text": [
      "\u001b[32m2022-12-21 20:18:04\u001b[0m \u001b[35mDESKTOP-60Q2LKA\u001b[0m \u001b[34mroot[11300]\u001b[0m \u001b[1;30mDEBUG\u001b[0m \u001b[32mSell at: $96.73 | Position: +$7.82\u001b[0m\n"
     ]
    },
    {
     "name": "stdout",
     "output_type": "stream",
     "text": [
      "1/1 [==============================] - 0s 20ms/step\n"
     ]
    },
    {
     "name": "stderr",
     "output_type": "stream",
     "text": [
      "\u001b[32m2022-12-21 20:18:04\u001b[0m \u001b[35mDESKTOP-60Q2LKA\u001b[0m \u001b[34mroot[11300]\u001b[0m \u001b[1;30mDEBUG\u001b[0m \u001b[32mBuy at: $96.03\u001b[0m\n"
     ]
    },
    {
     "name": "stdout",
     "output_type": "stream",
     "text": [
      "1/1 [==============================] - 0s 22ms/step\n"
     ]
    },
    {
     "name": "stderr",
     "output_type": "stream",
     "text": [
      "\u001b[32m2022-12-21 20:18:04\u001b[0m \u001b[35mDESKTOP-60Q2LKA\u001b[0m \u001b[34mroot[11300]\u001b[0m \u001b[1;30mDEBUG\u001b[0m \u001b[32mSell at: $98.72 | Position: +$11.32\u001b[0m\n"
     ]
    },
    {
     "name": "stdout",
     "output_type": "stream",
     "text": [
      "1/1 [==============================] - 0s 29ms/step\n"
     ]
    },
    {
     "name": "stderr",
     "output_type": "stream",
     "text": [
      "\u001b[32m2022-12-21 20:18:04\u001b[0m \u001b[35mDESKTOP-60Q2LKA\u001b[0m \u001b[34mroot[11300]\u001b[0m \u001b[1;30mDEBUG\u001b[0m \u001b[32mSell at: $98.99 | Position: +$4.82\u001b[0m\n"
     ]
    },
    {
     "name": "stdout",
     "output_type": "stream",
     "text": [
      "1/1 [==============================] - 0s 26ms/step\n"
     ]
    },
    {
     "name": "stderr",
     "output_type": "stream",
     "text": [
      "\u001b[32m2022-12-21 20:18:04\u001b[0m \u001b[35mDESKTOP-60Q2LKA\u001b[0m \u001b[34mroot[11300]\u001b[0m \u001b[1;30mDEBUG\u001b[0m \u001b[32mSell at: $98.50 | Position: +$2.47\u001b[0m\n"
     ]
    },
    {
     "name": "stdout",
     "output_type": "stream",
     "text": [
      "1/1 [==============================] - 0s 33ms/step\n",
      "1/1 [==============================] - 0s 39ms/step\n",
      "1/1 [==============================] - 0s 42ms/step\n",
      "1/1 [==============================] - 0s 30ms/step\n",
      "1/1 [==============================] - 0s 23ms/step\n"
     ]
    },
    {
     "name": "stderr",
     "output_type": "stream",
     "text": [
      "\u001b[32m2022-12-21 20:18:04\u001b[0m \u001b[35mDESKTOP-60Q2LKA\u001b[0m \u001b[34mroot[11300]\u001b[0m \u001b[1;30mDEBUG\u001b[0m \u001b[32mBuy at: $97.60\u001b[0m\n"
     ]
    },
    {
     "name": "stdout",
     "output_type": "stream",
     "text": [
      "1/1 [==============================] - 0s 20ms/step\n"
     ]
    },
    {
     "name": "stderr",
     "output_type": "stream",
     "text": [
      "\u001b[32m2022-12-21 20:18:04\u001b[0m \u001b[35mDESKTOP-60Q2LKA\u001b[0m \u001b[34mroot[11300]\u001b[0m \u001b[1;30mDEBUG\u001b[0m \u001b[32mBuy at: $96.25\u001b[0m\n"
     ]
    },
    {
     "name": "stdout",
     "output_type": "stream",
     "text": [
      "1/1 [==============================] - 0s 16ms/step\n"
     ]
    },
    {
     "name": "stderr",
     "output_type": "stream",
     "text": [
      "\u001b[32m2022-12-21 20:18:04\u001b[0m \u001b[35mDESKTOP-60Q2LKA\u001b[0m \u001b[34mroot[11300]\u001b[0m \u001b[1;30mDEBUG\u001b[0m \u001b[32mSell at: $95.44 | Position: -$2.16\u001b[0m\n"
     ]
    },
    {
     "name": "stdout",
     "output_type": "stream",
     "text": [
      "1/1 [==============================] - 0s 19ms/step\n"
     ]
    },
    {
     "name": "stderr",
     "output_type": "stream",
     "text": [
      "\u001b[32m2022-12-21 20:18:05\u001b[0m \u001b[35mDESKTOP-60Q2LKA\u001b[0m \u001b[34mroot[11300]\u001b[0m \u001b[1;30mDEBUG\u001b[0m \u001b[32mSell at: $101.45 | Position: +$5.20\u001b[0m\n"
     ]
    },
    {
     "name": "stdout",
     "output_type": "stream",
     "text": [
      "1/1 [==============================] - 0s 23ms/step\n"
     ]
    },
    {
     "name": "stderr",
     "output_type": "stream",
     "text": [
      "\u001b[32m2022-12-21 20:18:05\u001b[0m \u001b[35mDESKTOP-60Q2LKA\u001b[0m \u001b[34mroot[11300]\u001b[0m \u001b[1;30mDEBUG\u001b[0m \u001b[32mBuy at: $101.28\u001b[0m\n"
     ]
    }
   ],
   "source": [
    "test_result, history = evaluate_model(agent, test_data, window_size, debug)"
   ]
  },
  {
   "cell_type": "code",
   "execution_count": 20,
   "metadata": {},
   "outputs": [
    {
     "name": "stderr",
     "output_type": "stream",
     "text": [
      "\u001b[32m2022-12-21 20:18:05\u001b[0m \u001b[35mDESKTOP-60Q2LKA\u001b[0m \u001b[34mroot[11300]\u001b[0m \u001b[1;30mINFO\u001b[0m model_dqn_GOOG_50: -$27.11\n",
      "\n"
     ]
    }
   ],
   "source": [
    "show_eval_result(model_name, test_result, initial_offset)"
   ]
  },
  {
   "cell_type": "markdown",
   "metadata": {},
   "source": [
    "### 4. Visualize"
   ]
  },
  {
   "cell_type": "code",
   "execution_count": 21,
   "metadata": {},
   "outputs": [],
   "source": [
    "def visualize(df, history, title=\"trading session\"):\n",
    "    # add history to dataframe\n",
    "    position = [history[0][0]] + [x[0] for x in history]\n",
    "    actions = ['HOLD'] + [x[1] for x in history]\n",
    "    df['position'] = position\n",
    "    df['action'] = actions\n",
    "    \n",
    "    # specify y-axis scale for stock prices\n",
    "    scale = alt.Scale(domain=(min(min(df['actual']), min(df['position'])) - 50, max(max(df['actual']), max(df['position'])) + 50), clamp=True)\n",
    "    \n",
    "    # plot a line chart for stock positions\n",
    "    actual = alt.Chart(df).mark_line(\n",
    "        color='green',\n",
    "        opacity=0.5\n",
    "    ).encode(\n",
    "        x='date:T',\n",
    "        y=alt.Y('position', axis=alt.Axis(format='$.2f', title='Price'), scale=scale)\n",
    "    ).interactive(\n",
    "        bind_y=False\n",
    "    )\n",
    "    \n",
    "    # plot the BUY and SELL actions as points\n",
    "    points = alt.Chart(df).transform_filter(\n",
    "        alt.datum.action != 'HOLD'\n",
    "    ).mark_point(\n",
    "        filled=True\n",
    "    ).encode(\n",
    "        x=alt.X('date:T', axis=alt.Axis(title='Date')),\n",
    "        y=alt.Y('position', axis=alt.Axis(format='$.2f', title='Price'), scale=scale),\n",
    "        color='action'\n",
    "    ).interactive(bind_y=False)\n",
    "\n",
    "    # merge the two charts\n",
    "    chart = alt.layer(actual, points, title=title).properties(height=300, width=1000)\n",
    "    \n",
    "    return chart"
   ]
  },
  {
   "attachments": {},
   "cell_type": "markdown",
   "metadata": {},
   "source": [
    "- forecast: LSTM, GRU: Nhận dữ liệu gần đây\n",
    "- agent: Nhận 1 trong nhiều model sẵn có\n",
    "- test_data: Nhân vào dữ liệu của 1 năm"
   ]
  },
  {
   "cell_type": "code",
   "execution_count": 22,
   "metadata": {},
   "outputs": [
    {
     "data": {
      "text/html": [
       "\n",
       "<div id=\"altair-viz-23f59855ea8d4236896795ff5a58e8ef\"></div>\n",
       "<script type=\"text/javascript\">\n",
       "  var VEGA_DEBUG = (typeof VEGA_DEBUG == \"undefined\") ? {} : VEGA_DEBUG;\n",
       "  (function(spec, embedOpt){\n",
       "    let outputDiv = document.currentScript.previousElementSibling;\n",
       "    if (outputDiv.id !== \"altair-viz-23f59855ea8d4236896795ff5a58e8ef\") {\n",
       "      outputDiv = document.getElementById(\"altair-viz-23f59855ea8d4236896795ff5a58e8ef\");\n",
       "    }\n",
       "    const paths = {\n",
       "      \"vega\": \"https://cdn.jsdelivr.net/npm//vega@5?noext\",\n",
       "      \"vega-lib\": \"https://cdn.jsdelivr.net/npm//vega-lib?noext\",\n",
       "      \"vega-lite\": \"https://cdn.jsdelivr.net/npm//vega-lite@4.17.0?noext\",\n",
       "      \"vega-embed\": \"https://cdn.jsdelivr.net/npm//vega-embed@6?noext\",\n",
       "    };\n",
       "\n",
       "    function maybeLoadScript(lib, version) {\n",
       "      var key = `${lib.replace(\"-\", \"\")}_version`;\n",
       "      return (VEGA_DEBUG[key] == version) ?\n",
       "        Promise.resolve(paths[lib]) :\n",
       "        new Promise(function(resolve, reject) {\n",
       "          var s = document.createElement('script');\n",
       "          document.getElementsByTagName(\"head\")[0].appendChild(s);\n",
       "          s.async = true;\n",
       "          s.onload = () => {\n",
       "            VEGA_DEBUG[key] = version;\n",
       "            return resolve(paths[lib]);\n",
       "          };\n",
       "          s.onerror = () => reject(`Error loading script: ${paths[lib]}`);\n",
       "          s.src = paths[lib];\n",
       "        });\n",
       "    }\n",
       "\n",
       "    function showError(err) {\n",
       "      outputDiv.innerHTML = `<div class=\"error\" style=\"color:red;\">${err}</div>`;\n",
       "      throw err;\n",
       "    }\n",
       "\n",
       "    function displayChart(vegaEmbed) {\n",
       "      vegaEmbed(outputDiv, spec, embedOpt)\n",
       "        .catch(err => showError(`Javascript Error: ${err.message}<br>This usually means there's a typo in your chart specification. See the javascript console for the full traceback.`));\n",
       "    }\n",
       "\n",
       "    if(typeof define === \"function\" && define.amd) {\n",
       "      requirejs.config({paths});\n",
       "      require([\"vega-embed\"], displayChart, err => showError(`Error loading script: ${err.message}`));\n",
       "    } else {\n",
       "      maybeLoadScript(\"vega\", \"5\")\n",
       "        .then(() => maybeLoadScript(\"vega-lite\", \"4.17.0\"))\n",
       "        .then(() => maybeLoadScript(\"vega-embed\", \"6\"))\n",
       "        .catch(showError)\n",
       "        .then(() => displayChart(vegaEmbed));\n",
       "    }\n",
       "  })({\"config\": {\"view\": {\"continuousWidth\": 400, \"continuousHeight\": 300}}, \"layer\": [{\"mark\": {\"type\": \"line\", \"color\": \"green\", \"opacity\": 0.5}, \"encoding\": {\"x\": {\"field\": \"date\", \"type\": \"temporal\"}, \"y\": {\"axis\": {\"format\": \"$.2f\", \"title\": \"Price\"}, \"field\": \"position\", \"scale\": {\"clamp\": true, \"domain\": [33.489998, 198.036499]}, \"type\": \"quantitative\"}}, \"selection\": {\"selector003\": {\"type\": \"interval\", \"bind\": \"scales\", \"encodings\": [\"x\"]}}}, {\"mark\": {\"type\": \"point\", \"filled\": true}, \"encoding\": {\"color\": {\"field\": \"action\", \"type\": \"nominal\"}, \"x\": {\"axis\": {\"title\": \"Date\"}, \"field\": \"date\", \"type\": \"temporal\"}, \"y\": {\"axis\": {\"format\": \"$.2f\", \"title\": \"Price\"}, \"field\": \"position\", \"scale\": {\"clamp\": true, \"domain\": [33.489998, 198.036499]}, \"type\": \"quantitative\"}}, \"selection\": {\"selector004\": {\"type\": \"interval\", \"bind\": \"scales\", \"encodings\": [\"x\"]}}, \"transform\": [{\"filter\": \"(datum.action !== 'HOLD')\"}]}], \"data\": {\"name\": \"data-609bc5405915fdbdd550848e6358dcb4\"}, \"height\": 300, \"title\": \"data/GOOG_2022.csv\", \"width\": 1000, \"$schema\": \"https://vega.github.io/schema/vega-lite/v4.17.0.json\", \"datasets\": {\"data-609bc5405915fdbdd550848e6358dcb4\": [{\"date\": \"2022-01-03T00:00:00\", \"actual\": 145.074493, \"position\": 145.074493, \"action\": \"HOLD\"}, {\"date\": \"2022-01-04T00:00:00\", \"actual\": 144.416504, \"position\": 145.074493, \"action\": \"BUY\"}, {\"date\": \"2022-01-05T00:00:00\", \"actual\": 137.653503, \"position\": 144.416504, \"action\": \"BUY\"}, {\"date\": \"2022-01-06T00:00:00\", \"actual\": 137.550995, \"position\": 137.653503, \"action\": \"BUY\"}, {\"date\": \"2022-01-07T00:00:00\", \"actual\": 137.004501, \"position\": 137.550995, \"action\": \"SELL\"}, {\"date\": \"2022-01-10T00:00:00\", \"actual\": 138.574005, \"position\": 137.004501, \"action\": \"SELL\"}, {\"date\": \"2022-01-11T00:00:00\", \"actual\": 140.017502, \"position\": 138.574005, \"action\": \"SELL\"}, {\"date\": \"2022-01-12T00:00:00\", \"actual\": 141.647995, \"position\": 140.017502, \"action\": \"HOLD\"}, {\"date\": \"2022-01-13T00:00:00\", \"actual\": 139.130997, \"position\": 141.647995, \"action\": \"HOLD\"}, {\"date\": \"2022-01-14T00:00:00\", \"actual\": 139.786499, \"position\": 139.130997, \"action\": \"HOLD\"}, {\"date\": \"2022-01-18T00:00:00\", \"actual\": 136.290497, \"position\": 139.786499, \"action\": \"HOLD\"}, {\"date\": \"2022-01-19T00:00:00\", \"actual\": 135.651993, \"position\": 136.290497, \"action\": \"HOLD\"}, {\"date\": \"2022-01-20T00:00:00\", \"actual\": 133.5065, \"position\": 135.651993, \"action\": \"HOLD\"}, {\"date\": \"2022-01-21T00:00:00\", \"actual\": 130.091995, \"position\": 133.5065, \"action\": \"HOLD\"}, {\"date\": \"2022-01-24T00:00:00\", \"actual\": 130.371994, \"position\": 130.091995, \"action\": \"BUY\"}, {\"date\": \"2022-01-25T00:00:00\", \"actual\": 126.735497, \"position\": 130.371994, \"action\": \"SELL\"}, {\"date\": \"2022-01-26T00:00:00\", \"actual\": 129.240005, \"position\": 126.735497, \"action\": \"HOLD\"}, {\"date\": \"2022-01-27T00:00:00\", \"actual\": 129.121002, \"position\": 129.240005, \"action\": \"HOLD\"}, {\"date\": \"2022-01-28T00:00:00\", \"actual\": 133.289505, \"position\": 129.121002, \"action\": \"HOLD\"}, {\"date\": \"2022-01-31T00:00:00\", \"actual\": 135.698502, \"position\": 133.289505, \"action\": \"HOLD\"}, {\"date\": \"2022-02-01T00:00:00\", \"actual\": 137.878494, \"position\": 135.698502, \"action\": \"HOLD\"}, {\"date\": \"2022-02-02T00:00:00\", \"actual\": 148.036499, \"position\": 137.878494, \"action\": \"HOLD\"}, {\"date\": \"2022-02-03T00:00:00\", \"actual\": 142.650497, \"position\": 148.036499, \"action\": \"HOLD\"}, {\"date\": \"2022-02-04T00:00:00\", \"actual\": 143.016006, \"position\": 142.650497, \"action\": \"HOLD\"}, {\"date\": \"2022-02-07T00:00:00\", \"actual\": 138.938004, \"position\": 143.016006, \"action\": \"HOLD\"}, {\"date\": \"2022-02-08T00:00:00\", \"actual\": 139.212997, \"position\": 138.938004, \"action\": \"HOLD\"}, {\"date\": \"2022-02-09T00:00:00\", \"actual\": 141.453003, \"position\": 139.212997, \"action\": \"HOLD\"}, {\"date\": \"2022-02-10T00:00:00\", \"actual\": 138.602493, \"position\": 141.453003, \"action\": \"HOLD\"}, {\"date\": \"2022-02-11T00:00:00\", \"actual\": 134.130005, \"position\": 138.602493, \"action\": \"HOLD\"}, {\"date\": \"2022-02-14T00:00:00\", \"actual\": 135.300003, \"position\": 134.130005, \"action\": \"BUY\"}, {\"date\": \"2022-02-15T00:00:00\", \"actual\": 136.425507, \"position\": 135.300003, \"action\": \"SELL\"}, {\"date\": \"2022-02-16T00:00:00\", \"actual\": 137.487503, \"position\": 136.425507, \"action\": \"HOLD\"}, {\"date\": \"2022-02-17T00:00:00\", \"actual\": 132.308502, \"position\": 137.487503, \"action\": \"HOLD\"}, {\"date\": \"2022-02-18T00:00:00\", \"actual\": 130.467499, \"position\": 132.308502, \"action\": \"BUY\"}, {\"date\": \"2022-02-22T00:00:00\", \"actual\": 129.402496, \"position\": 130.467499, \"action\": \"BUY\"}, {\"date\": \"2022-02-23T00:00:00\", \"actual\": 127.584999, \"position\": 129.402496, \"action\": \"BUY\"}, {\"date\": \"2022-02-24T00:00:00\", \"actual\": 132.673492, \"position\": 127.584999, \"action\": \"SELL\"}, {\"date\": \"2022-02-25T00:00:00\", \"actual\": 134.519501, \"position\": 132.673492, \"action\": \"BUY\"}, {\"date\": \"2022-02-28T00:00:00\", \"actual\": 134.891006, \"position\": 134.519501, \"action\": \"BUY\"}, {\"date\": \"2022-03-01T00:00:00\", \"actual\": 134.167999, \"position\": 134.891006, \"action\": \"SELL\"}, {\"date\": \"2022-03-02T00:00:00\", \"actual\": 134.751495, \"position\": 134.167999, \"action\": \"HOLD\"}, {\"date\": \"2022-03-03T00:00:00\", \"actual\": 134.307999, \"position\": 134.751495, \"action\": \"BUY\"}, {\"date\": \"2022-03-04T00:00:00\", \"actual\": 132.121994, \"position\": 134.307999, \"action\": \"BUY\"}, {\"date\": \"2022-03-07T00:00:00\", \"actual\": 126.4645, \"position\": 132.121994, \"action\": \"SELL\"}, {\"date\": \"2022-03-08T00:00:00\", \"actual\": 127.278503, \"position\": 126.4645, \"action\": \"BUY\"}, {\"date\": \"2022-03-09T00:00:00\", \"actual\": 133.865997, \"position\": 127.278503, \"action\": \"BUY\"}, {\"date\": \"2022-03-10T00:00:00\", \"actual\": 132.682007, \"position\": 133.865997, \"action\": \"SELL\"}, {\"date\": \"2022-03-11T00:00:00\", \"actual\": 130.475494, \"position\": 132.682007, \"action\": \"SELL\"}, {\"date\": \"2022-03-14T00:00:00\", \"actual\": 126.740997, \"position\": 130.475494, \"action\": \"BUY\"}, {\"date\": \"2022-03-15T00:00:00\", \"actual\": 129.660507, \"position\": 126.740997, \"action\": \"BUY\"}, {\"date\": \"2022-03-16T00:00:00\", \"actual\": 133.690506, \"position\": 129.660507, \"action\": \"SELL\"}, {\"date\": \"2022-03-17T00:00:00\", \"actual\": 134.600494, \"position\": 133.690506, \"action\": \"BUY\"}, {\"date\": \"2022-03-18T00:00:00\", \"actual\": 136.801498, \"position\": 134.600494, \"action\": \"BUY\"}, {\"date\": \"2022-03-21T00:00:00\", \"actual\": 136.4785, \"position\": 136.801498, \"action\": \"SELL\"}, {\"date\": \"2022-03-22T00:00:00\", \"actual\": 140.277496, \"position\": 136.4785, \"action\": \"SELL\"}, {\"date\": \"2022-03-23T00:00:00\", \"actual\": 138.503494, \"position\": 140.277496, \"action\": \"BUY\"}, {\"date\": \"2022-03-24T00:00:00\", \"actual\": 141.311996, \"position\": 138.503494, \"action\": \"BUY\"}, {\"date\": \"2022-03-25T00:00:00\", \"actual\": 141.5215, \"position\": 141.311996, \"action\": \"SELL\"}, {\"date\": \"2022-03-28T00:00:00\", \"actual\": 141.949997, \"position\": 141.5215, \"action\": \"SELL\"}, {\"date\": \"2022-03-29T00:00:00\", \"actual\": 143.25, \"position\": 141.949997, \"action\": \"SELL\"}, {\"date\": \"2022-03-30T00:00:00\", \"actual\": 142.644501, \"position\": 143.25, \"action\": \"SELL\"}, {\"date\": \"2022-03-31T00:00:00\", \"actual\": 139.649506, \"position\": 142.644501, \"action\": \"SELL\"}, {\"date\": \"2022-04-01T00:00:00\", \"actual\": 140.699997, \"position\": 139.649506, \"action\": \"SELL\"}, {\"date\": \"2022-04-04T00:00:00\", \"actual\": 143.642502, \"position\": 140.699997, \"action\": \"SELL\"}, {\"date\": \"2022-04-05T00:00:00\", \"actual\": 141.063004, \"position\": 143.642502, \"action\": \"HOLD\"}, {\"date\": \"2022-04-06T00:00:00\", \"actual\": 137.175995, \"position\": 141.063004, \"action\": \"HOLD\"}, {\"date\": \"2022-04-07T00:00:00\", \"actual\": 136.464996, \"position\": 137.175995, \"action\": \"BUY\"}, {\"date\": \"2022-04-08T00:00:00\", \"actual\": 134.010498, \"position\": 136.464996, \"action\": \"BUY\"}, {\"date\": \"2022-04-11T00:00:00\", \"actual\": 129.796494, \"position\": 134.010498, \"action\": \"BUY\"}, {\"date\": \"2022-04-12T00:00:00\", \"actual\": 128.374496, \"position\": 129.796494, \"action\": \"BUY\"}, {\"date\": \"2022-04-13T00:00:00\", \"actual\": 130.285995, \"position\": 128.374496, \"action\": \"BUY\"}, {\"date\": \"2022-04-14T00:00:00\", \"actual\": 127.252998, \"position\": 130.285995, \"action\": \"BUY\"}, {\"date\": \"2022-04-18T00:00:00\", \"actual\": 127.960999, \"position\": 127.252998, \"action\": \"BUY\"}, {\"date\": \"2022-04-19T00:00:00\", \"actual\": 130.531006, \"position\": 127.960999, \"action\": \"HOLD\"}, {\"date\": \"2022-04-20T00:00:00\", \"actual\": 128.245499, \"position\": 130.531006, \"action\": \"BUY\"}, {\"date\": \"2022-04-21T00:00:00\", \"actual\": 124.9375, \"position\": 128.245499, \"action\": \"HOLD\"}, {\"date\": \"2022-04-22T00:00:00\", \"actual\": 119.613998, \"position\": 124.9375, \"action\": \"BUY\"}, {\"date\": \"2022-04-25T00:00:00\", \"actual\": 123.25, \"position\": 119.613998, \"action\": \"BUY\"}, {\"date\": \"2022-04-26T00:00:00\", \"actual\": 119.505997, \"position\": 123.25, \"action\": \"BUY\"}, {\"date\": \"2022-04-27T00:00:00\", \"actual\": 115.0205, \"position\": 119.505997, \"action\": \"SELL\"}, {\"date\": \"2022-04-28T00:00:00\", \"actual\": 119.411499, \"position\": 115.0205, \"action\": \"BUY\"}, {\"date\": \"2022-04-29T00:00:00\", \"actual\": 114.966499, \"position\": 119.411499, \"action\": \"BUY\"}, {\"date\": \"2022-05-02T00:00:00\", \"actual\": 117.156998, \"position\": 114.966499, \"action\": \"BUY\"}, {\"date\": \"2022-05-03T00:00:00\", \"actual\": 118.129501, \"position\": 117.156998, \"action\": \"HOLD\"}, {\"date\": \"2022-05-04T00:00:00\", \"actual\": 122.574997, \"position\": 118.129501, \"action\": \"BUY\"}, {\"date\": \"2022-05-05T00:00:00\", \"actual\": 116.746498, \"position\": 122.574997, \"action\": \"BUY\"}, {\"date\": \"2022-05-06T00:00:00\", \"actual\": 115.660004, \"position\": 116.746498, \"action\": \"SELL\"}, {\"date\": \"2022-05-09T00:00:00\", \"actual\": 113.084, \"position\": 115.660004, \"action\": \"SELL\"}, {\"date\": \"2022-05-10T00:00:00\", \"actual\": 114.584503, \"position\": 113.084, \"action\": \"BUY\"}, {\"date\": \"2022-05-11T00:00:00\", \"actual\": 113.960999, \"position\": 114.584503, \"action\": \"SELL\"}, {\"date\": \"2022-05-12T00:00:00\", \"actual\": 113.161003, \"position\": 113.960999, \"action\": \"SELL\"}, {\"date\": \"2022-05-13T00:00:00\", \"actual\": 116.515503, \"position\": 113.161003, \"action\": \"SELL\"}, {\"date\": \"2022-05-16T00:00:00\", \"actual\": 114.792503, \"position\": 116.515503, \"action\": \"SELL\"}, {\"date\": \"2022-05-17T00:00:00\", \"actual\": 116.7015, \"position\": 114.792503, \"action\": \"SELL\"}, {\"date\": \"2022-05-18T00:00:00\", \"actual\": 112.401001, \"position\": 116.7015, \"action\": \"SELL\"}, {\"date\": \"2022-05-19T00:00:00\", \"actual\": 110.745499, \"position\": 112.401001, \"action\": \"BUY\"}, {\"date\": \"2022-05-20T00:00:00\", \"actual\": 109.313004, \"position\": 110.745499, \"action\": \"SELL\"}, {\"date\": \"2022-05-23T00:00:00\", \"actual\": 111.666496, \"position\": 109.313004, \"action\": \"SELL\"}, {\"date\": \"2022-05-24T00:00:00\", \"actual\": 105.926003, \"position\": 111.666496, \"action\": \"SELL\"}, {\"date\": \"2022-05-25T00:00:00\", \"actual\": 105.8395, \"position\": 105.926003, \"action\": \"BUY\"}, {\"date\": \"2022-05-26T00:00:00\", \"actual\": 108.295998, \"position\": 105.8395, \"action\": \"SELL\"}, {\"date\": \"2022-05-27T00:00:00\", \"actual\": 112.799004, \"position\": 108.295998, \"action\": \"BUY\"}, {\"date\": \"2022-05-31T00:00:00\", \"actual\": 114.039001, \"position\": 112.799004, \"action\": \"SELL\"}, {\"date\": \"2022-06-01T00:00:00\", \"actual\": 114.137001, \"position\": 114.039001, \"action\": \"SELL\"}, {\"date\": \"2022-06-02T00:00:00\", \"actual\": 117.746002, \"position\": 114.137001, \"action\": \"SELL\"}, {\"date\": \"2022-06-03T00:00:00\", \"actual\": 114.564003, \"position\": 117.746002, \"action\": \"SELL\"}, {\"date\": \"2022-06-06T00:00:00\", \"actual\": 117.010498, \"position\": 114.564003, \"action\": \"SELL\"}, {\"date\": \"2022-06-07T00:00:00\", \"actual\": 117.2295, \"position\": 117.010498, \"action\": \"SELL\"}, {\"date\": \"2022-06-08T00:00:00\", \"actual\": 117.237999, \"position\": 117.2295, \"action\": \"SELL\"}, {\"date\": \"2022-06-09T00:00:00\", \"actual\": 114.917999, \"position\": 117.237999, \"action\": \"HOLD\"}, {\"date\": \"2022-06-10T00:00:00\", \"actual\": 111.427498, \"position\": 114.917999, \"action\": \"HOLD\"}, {\"date\": \"2022-06-13T00:00:00\", \"actual\": 106.876503, \"position\": 111.427498, \"action\": \"BUY\"}, {\"date\": \"2022-06-14T00:00:00\", \"actual\": 107.194, \"position\": 106.876503, \"action\": \"BUY\"}, {\"date\": \"2022-06-15T00:00:00\", \"actual\": 110.390503, \"position\": 107.194, \"action\": \"BUY\"}, {\"date\": \"2022-06-16T00:00:00\", \"actual\": 106.636002, \"position\": 110.390503, \"action\": \"SELL\"}, {\"date\": \"2022-06-17T00:00:00\", \"actual\": 107.865501, \"position\": 106.636002, \"action\": \"SELL\"}, {\"date\": \"2022-06-21T00:00:00\", \"actual\": 112.014999, \"position\": 107.865501, \"action\": \"BUY\"}, {\"date\": \"2022-06-22T00:00:00\", \"actual\": 112.033997, \"position\": 112.014999, \"action\": \"BUY\"}, {\"date\": \"2022-06-23T00:00:00\", \"actual\": 112.684502, \"position\": 112.033997, \"action\": \"BUY\"}, {\"date\": \"2022-06-24T00:00:00\", \"actual\": 118.538002, \"position\": 112.684502, \"action\": \"BUY\"}, {\"date\": \"2022-06-27T00:00:00\", \"actual\": 116.622498, \"position\": 118.538002, \"action\": \"SELL\"}, {\"date\": \"2022-06-28T00:00:00\", \"actual\": 112.571503, \"position\": 116.622498, \"action\": \"SELL\"}, {\"date\": \"2022-06-29T00:00:00\", \"actual\": 112.2565, \"position\": 112.571503, \"action\": \"SELL\"}, {\"date\": \"2022-06-30T00:00:00\", \"actual\": 109.372498, \"position\": 112.2565, \"action\": \"SELL\"}, {\"date\": \"2022-07-01T00:00:00\", \"actual\": 109.081001, \"position\": 109.372498, \"action\": \"SELL\"}, {\"date\": \"2022-07-05T00:00:00\", \"actual\": 113.887001, \"position\": 109.081001, \"action\": \"BUY\"}, {\"date\": \"2022-07-06T00:00:00\", \"actual\": 115.213501, \"position\": 113.887001, \"action\": \"SELL\"}, {\"date\": \"2022-07-07T00:00:00\", \"actual\": 119.306, \"position\": 115.213501, \"action\": \"HOLD\"}, {\"date\": \"2022-07-08T00:00:00\", \"actual\": 120.168503, \"position\": 119.306, \"action\": \"HOLD\"}, {\"date\": \"2022-07-11T00:00:00\", \"actual\": 116.522499, \"position\": 120.168503, \"action\": \"HOLD\"}, {\"date\": \"2022-07-12T00:00:00\", \"actual\": 114.849503, \"position\": 116.522499, \"action\": \"BUY\"}, {\"date\": \"2022-07-13T00:00:00\", \"actual\": 112.186996, \"position\": 114.849503, \"action\": \"BUY\"}, {\"date\": \"2022-07-14T00:00:00\", \"actual\": 111.440002, \"position\": 112.186996, \"action\": \"SELL\"}, {\"date\": \"2022-07-15T00:00:00\", \"actual\": 112.766998, \"position\": 111.440002, \"action\": \"BUY\"}, {\"date\": \"2022-07-18T00:00:00\", \"actual\": 109.910004, \"position\": 112.766998, \"action\": \"BUY\"}, {\"date\": \"2022-07-19T00:00:00\", \"actual\": 114.620003, \"position\": 109.910004, \"action\": \"BUY\"}, {\"date\": \"2022-07-20T00:00:00\", \"actual\": 114.699997, \"position\": 114.620003, \"action\": \"BUY\"}, {\"date\": \"2022-07-21T00:00:00\", \"actual\": 115.040001, \"position\": 114.699997, \"action\": \"BUY\"}, {\"date\": \"2022-07-22T00:00:00\", \"actual\": 108.360001, \"position\": 115.040001, \"action\": \"BUY\"}, {\"date\": \"2022-07-25T00:00:00\", \"actual\": 108.209999, \"position\": 108.360001, \"action\": \"BUY\"}, {\"date\": \"2022-07-26T00:00:00\", \"actual\": 105.440002, \"position\": 108.209999, \"action\": \"SELL\"}, {\"date\": \"2022-07-27T00:00:00\", \"actual\": 113.599998, \"position\": 105.440002, \"action\": \"SELL\"}, {\"date\": \"2022-07-28T00:00:00\", \"actual\": 114.589996, \"position\": 113.599998, \"action\": \"SELL\"}, {\"date\": \"2022-07-29T00:00:00\", \"actual\": 116.639999, \"position\": 114.589996, \"action\": \"BUY\"}, {\"date\": \"2022-08-01T00:00:00\", \"actual\": 115.480003, \"position\": 116.639999, \"action\": \"SELL\"}, {\"date\": \"2022-08-02T00:00:00\", \"actual\": 115.900002, \"position\": 115.480003, \"action\": \"SELL\"}, {\"date\": \"2022-08-03T00:00:00\", \"actual\": 118.779999, \"position\": 115.900002, \"action\": \"SELL\"}, {\"date\": \"2022-08-04T00:00:00\", \"actual\": 118.870003, \"position\": 118.779999, \"action\": \"SELL\"}, {\"date\": \"2022-08-05T00:00:00\", \"actual\": 118.220001, \"position\": 118.870003, \"action\": \"BUY\"}, {\"date\": \"2022-08-08T00:00:00\", \"actual\": 118.139999, \"position\": 118.220001, \"action\": \"SELL\"}, {\"date\": \"2022-08-09T00:00:00\", \"actual\": 117.5, \"position\": 118.139999, \"action\": \"SELL\"}, {\"date\": \"2022-08-10T00:00:00\", \"actual\": 120.650002, \"position\": 117.5, \"action\": \"SELL\"}, {\"date\": \"2022-08-11T00:00:00\", \"actual\": 119.82, \"position\": 120.650002, \"action\": \"HOLD\"}, {\"date\": \"2022-08-12T00:00:00\", \"actual\": 122.650002, \"position\": 119.82, \"action\": \"HOLD\"}, {\"date\": \"2022-08-15T00:00:00\", \"actual\": 122.879997, \"position\": 122.650002, \"action\": \"HOLD\"}, {\"date\": \"2022-08-16T00:00:00\", \"actual\": 122.510002, \"position\": 122.879997, \"action\": \"HOLD\"}, {\"date\": \"2022-08-17T00:00:00\", \"actual\": 120.32, \"position\": 122.510002, \"action\": \"HOLD\"}, {\"date\": \"2022-08-18T00:00:00\", \"actual\": 120.860001, \"position\": 120.32, \"action\": \"HOLD\"}, {\"date\": \"2022-08-19T00:00:00\", \"actual\": 118.120003, \"position\": 120.860001, \"action\": \"HOLD\"}, {\"date\": \"2022-08-22T00:00:00\", \"actual\": 115.07, \"position\": 118.120003, \"action\": \"HOLD\"}, {\"date\": \"2022-08-23T00:00:00\", \"actual\": 114.769997, \"position\": 115.07, \"action\": \"HOLD\"}, {\"date\": \"2022-08-24T00:00:00\", \"actual\": 114.699997, \"position\": 114.769997, \"action\": \"HOLD\"}, {\"date\": \"2022-08-25T00:00:00\", \"actual\": 117.699997, \"position\": 114.699997, \"action\": \"BUY\"}, {\"date\": \"2022-08-26T00:00:00\", \"actual\": 111.300003, \"position\": 117.699997, \"action\": \"SELL\"}, {\"date\": \"2022-08-29T00:00:00\", \"actual\": 110.339996, \"position\": 111.300003, \"action\": \"BUY\"}, {\"date\": \"2022-08-30T00:00:00\", \"actual\": 109.910004, \"position\": 110.339996, \"action\": \"BUY\"}, {\"date\": \"2022-08-31T00:00:00\", \"actual\": 109.150002, \"position\": 109.910004, \"action\": \"SELL\"}, {\"date\": \"2022-09-01T00:00:00\", \"actual\": 110.550003, \"position\": 109.150002, \"action\": \"BUY\"}, {\"date\": \"2022-09-02T00:00:00\", \"actual\": 108.68, \"position\": 110.550003, \"action\": \"BUY\"}, {\"date\": \"2022-09-06T00:00:00\", \"actual\": 107.480003, \"position\": 108.68, \"action\": \"SELL\"}, {\"date\": \"2022-09-07T00:00:00\", \"actual\": 110.480003, \"position\": 107.480003, \"action\": \"BUY\"}, {\"date\": \"2022-09-08T00:00:00\", \"actual\": 109.419998, \"position\": 110.480003, \"action\": \"SELL\"}, {\"date\": \"2022-09-09T00:00:00\", \"actual\": 111.779999, \"position\": 109.419998, \"action\": \"SELL\"}, {\"date\": \"2022-09-12T00:00:00\", \"actual\": 111.870003, \"position\": 111.779999, \"action\": \"SELL\"}, {\"date\": \"2022-09-13T00:00:00\", \"actual\": 105.309998, \"position\": 111.870003, \"action\": \"HOLD\"}, {\"date\": \"2022-09-14T00:00:00\", \"actual\": 105.870003, \"position\": 105.309998, \"action\": \"HOLD\"}, {\"date\": \"2022-09-15T00:00:00\", \"actual\": 103.900002, \"position\": 105.870003, \"action\": \"HOLD\"}, {\"date\": \"2022-09-16T00:00:00\", \"actual\": 103.629997, \"position\": 103.900002, \"action\": \"BUY\"}, {\"date\": \"2022-09-19T00:00:00\", \"actual\": 103.849998, \"position\": 103.629997, \"action\": \"BUY\"}, {\"date\": \"2022-09-20T00:00:00\", \"actual\": 101.830002, \"position\": 103.849998, \"action\": \"SELL\"}, {\"date\": \"2022-09-21T00:00:00\", \"actual\": 100.010002, \"position\": 101.830002, \"action\": \"SELL\"}, {\"date\": \"2022-09-22T00:00:00\", \"actual\": 100.57, \"position\": 100.010002, \"action\": \"HOLD\"}, {\"date\": \"2022-09-23T00:00:00\", \"actual\": 99.169998, \"position\": 100.57, \"action\": \"HOLD\"}, {\"date\": \"2022-09-26T00:00:00\", \"actual\": 98.809998, \"position\": 99.169998, \"action\": \"BUY\"}, {\"date\": \"2022-09-27T00:00:00\", \"actual\": 98.089996, \"position\": 98.809998, \"action\": \"SELL\"}, {\"date\": \"2022-09-28T00:00:00\", \"actual\": 100.739998, \"position\": 98.089996, \"action\": \"BUY\"}, {\"date\": \"2022-09-29T00:00:00\", \"actual\": 98.089996, \"position\": 100.739998, \"action\": \"SELL\"}, {\"date\": \"2022-09-30T00:00:00\", \"actual\": 96.150002, \"position\": 98.089996, \"action\": \"HOLD\"}, {\"date\": \"2022-10-03T00:00:00\", \"actual\": 99.300003, \"position\": 96.150002, \"action\": \"BUY\"}, {\"date\": \"2022-10-04T00:00:00\", \"actual\": 102.410004, \"position\": 99.300003, \"action\": \"BUY\"}, {\"date\": \"2022-10-05T00:00:00\", \"actual\": 102.220001, \"position\": 102.410004, \"action\": \"SELL\"}, {\"date\": \"2022-10-06T00:00:00\", \"actual\": 102.239998, \"position\": 102.220001, \"action\": \"SELL\"}, {\"date\": \"2022-10-07T00:00:00\", \"actual\": 99.57, \"position\": 102.239998, \"action\": \"HOLD\"}, {\"date\": \"2022-10-10T00:00:00\", \"actual\": 98.709999, \"position\": 99.57, \"action\": \"HOLD\"}, {\"date\": \"2022-10-11T00:00:00\", \"actual\": 98.050003, \"position\": 98.709999, \"action\": \"HOLD\"}, {\"date\": \"2022-10-12T00:00:00\", \"actual\": 98.300003, \"position\": 98.050003, \"action\": \"HOLD\"}, {\"date\": \"2022-10-13T00:00:00\", \"actual\": 99.709999, \"position\": 98.300003, \"action\": \"HOLD\"}, {\"date\": \"2022-10-14T00:00:00\", \"actual\": 97.18, \"position\": 99.709999, \"action\": \"BUY\"}, {\"date\": \"2022-10-17T00:00:00\", \"actual\": 100.779999, \"position\": 97.18, \"action\": \"SELL\"}, {\"date\": \"2022-10-18T00:00:00\", \"actual\": 101.389999, \"position\": 100.779999, \"action\": \"HOLD\"}, {\"date\": \"2022-10-19T00:00:00\", \"actual\": 100.290001, \"position\": 101.389999, \"action\": \"HOLD\"}, {\"date\": \"2022-10-20T00:00:00\", \"actual\": 100.529999, \"position\": 100.290001, \"action\": \"HOLD\"}, {\"date\": \"2022-10-21T00:00:00\", \"actual\": 101.480003, \"position\": 100.529999, \"action\": \"BUY\"}, {\"date\": \"2022-10-24T00:00:00\", \"actual\": 102.970001, \"position\": 101.480003, \"action\": \"BUY\"}, {\"date\": \"2022-10-25T00:00:00\", \"actual\": 104.93, \"position\": 102.970001, \"action\": \"SELL\"}, {\"date\": \"2022-10-26T00:00:00\", \"actual\": 94.82, \"position\": 104.93, \"action\": \"SELL\"}, {\"date\": \"2022-10-27T00:00:00\", \"actual\": 92.599998, \"position\": 94.82, \"action\": \"HOLD\"}, {\"date\": \"2022-10-28T00:00:00\", \"actual\": 96.580002, \"position\": 92.599998, \"action\": \"HOLD\"}, {\"date\": \"2022-10-31T00:00:00\", \"actual\": 94.660004, \"position\": 96.580002, \"action\": \"HOLD\"}, {\"date\": \"2022-11-01T00:00:00\", \"actual\": 90.5, \"position\": 94.660004, \"action\": \"HOLD\"}, {\"date\": \"2022-11-02T00:00:00\", \"actual\": 87.07, \"position\": 90.5, \"action\": \"HOLD\"}, {\"date\": \"2022-11-03T00:00:00\", \"actual\": 83.489998, \"position\": 87.07, \"action\": \"HOLD\"}, {\"date\": \"2022-11-04T00:00:00\", \"actual\": 86.699997, \"position\": 83.489998, \"action\": \"BUY\"}, {\"date\": \"2022-11-07T00:00:00\", \"actual\": 88.650002, \"position\": 86.699997, \"action\": \"HOLD\"}, {\"date\": \"2022-11-08T00:00:00\", \"actual\": 88.910004, \"position\": 88.650002, \"action\": \"SELL\"}, {\"date\": \"2022-11-09T00:00:00\", \"actual\": 87.400002, \"position\": 88.910004, \"action\": \"BUY\"}, {\"date\": \"2022-11-10T00:00:00\", \"actual\": 94.169998, \"position\": 87.400002, \"action\": \"BUY\"}, {\"date\": \"2022-11-11T00:00:00\", \"actual\": 96.730003, \"position\": 94.169998, \"action\": \"BUY\"}, {\"date\": \"2022-11-14T00:00:00\", \"actual\": 96.029999, \"position\": 96.730003, \"action\": \"SELL\"}, {\"date\": \"2022-11-15T00:00:00\", \"actual\": 98.720001, \"position\": 96.029999, \"action\": \"BUY\"}, {\"date\": \"2022-11-16T00:00:00\", \"actual\": 98.989998, \"position\": 98.720001, \"action\": \"SELL\"}, {\"date\": \"2022-11-17T00:00:00\", \"actual\": 98.5, \"position\": 98.989998, \"action\": \"SELL\"}, {\"date\": \"2022-11-18T00:00:00\", \"actual\": 97.800003, \"position\": 98.5, \"action\": \"SELL\"}, {\"date\": \"2022-11-21T00:00:00\", \"actual\": 95.830002, \"position\": 97.800003, \"action\": \"HOLD\"}, {\"date\": \"2022-11-22T00:00:00\", \"actual\": 97.330002, \"position\": 95.830002, \"action\": \"HOLD\"}, {\"date\": \"2022-11-23T00:00:00\", \"actual\": 98.82, \"position\": 97.330002, \"action\": \"HOLD\"}, {\"date\": \"2022-11-25T00:00:00\", \"actual\": 97.599998, \"position\": 98.82, \"action\": \"HOLD\"}, {\"date\": \"2022-11-28T00:00:00\", \"actual\": 96.25, \"position\": 97.599998, \"action\": \"BUY\"}, {\"date\": \"2022-11-29T00:00:00\", \"actual\": 95.440002, \"position\": 96.25, \"action\": \"BUY\"}, {\"date\": \"2022-11-30T00:00:00\", \"actual\": 101.449997, \"position\": 95.440002, \"action\": \"SELL\"}, {\"date\": \"2022-12-01T00:00:00\", \"actual\": 101.279999, \"position\": 101.449997, \"action\": \"SELL\"}, {\"date\": \"2022-12-02T00:00:00\", \"actual\": 100.830002, \"position\": 101.279999, \"action\": \"BUY\"}]}}, {\"mode\": \"vega-lite\"});\n",
       "</script>"
      ],
      "text/plain": [
       "alt.LayerChart(...)"
      ]
     },
     "execution_count": 22,
     "metadata": {},
     "output_type": "execute_result"
    }
   ],
   "source": [
    "chart = visualize(df, history, title=test_stock)\n",
    "chart"
   ]
  }
 ],
 "metadata": {
  "kernelspec": {
   "display_name": "min_env",
   "language": "python",
   "name": "python3"
  },
  "language_info": {
   "codemirror_mode": {
    "name": "ipython",
    "version": 3
   },
   "file_extension": ".py",
   "mimetype": "text/x-python",
   "name": "python",
   "nbconvert_exporter": "python",
   "pygments_lexer": "ipython3",
   "version": "3.7.15"
  },
  "vscode": {
   "interpreter": {
    "hash": "99656eb9b2411ebb447b0c07f6e6e3fa7b58357a8cf493484ae6ea458c0958b7"
   }
  }
 },
 "nbformat": 4,
 "nbformat_minor": 4
}
